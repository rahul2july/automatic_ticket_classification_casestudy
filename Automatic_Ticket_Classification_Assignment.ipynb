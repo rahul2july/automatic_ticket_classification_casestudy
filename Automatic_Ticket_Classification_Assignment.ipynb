{
 "cells": [
  {
   "cell_type": "markdown",
   "metadata": {
    "id": "rhR-ZUkwJrFn"
   },
   "source": [
    "## Problem Statement \n",
    "\n",
    "You need to build a model that is able to classify customer complaints based on the products/services. By doing so, you can segregate these tickets into their relevant categories and, therefore, help in the quick resolution of the issue.\n",
    "\n",
    "You will be doing topic modelling on the <b>.json</b> data provided by the company. Since this data is not labelled, you need to apply NMF to analyse patterns and classify tickets into the following five clusters based on their products/services:\n",
    "\n",
    "* Credit card / Prepaid card\n",
    "\n",
    "* Bank account services\n",
    "\n",
    "* Theft/Dispute reporting\n",
    "\n",
    "* Mortgages/loans\n",
    "\n",
    "* Others \n",
    "\n",
    "\n",
    "With the help of topic modelling, you will be able to map each ticket onto its respective department/category. You can then use this data to train any supervised model such as logistic regression, decision tree or random forest. Using this trained model, you can classify any new customer complaint support ticket into its relevant department."
   ]
  },
  {
   "cell_type": "markdown",
   "metadata": {
    "id": "mcgXVNyaLUFS"
   },
   "source": [
    "## Pipelines that needs to be performed:\n",
    "\n",
    "You need to perform the following eight major tasks to complete the assignment:\n",
    "\n",
    "1.  Data loading\n",
    "\n",
    "2. Text preprocessing\n",
    "\n",
    "3. Exploratory data analysis (EDA)\n",
    "\n",
    "4. Feature extraction\n",
    "\n",
    "5. Topic modelling \n",
    "\n",
    "6. Model building using supervised learning\n",
    "\n",
    "7. Model training and evaluation\n",
    "\n",
    "8. Model inference"
   ]
  },
  {
   "cell_type": "markdown",
   "metadata": {
    "id": "JuLFIymAL58u"
   },
   "source": [
    "## Importing the necessary libraries"
   ]
  },
  {
   "cell_type": "code",
   "execution_count": 1,
   "metadata": {},
   "outputs": [
    {
     "name": "stdout",
     "output_type": "stream",
     "text": [
      "Requirement already satisfied: wordcloud in /Applications/miniconda3/lib/python3.9/site-packages (1.9.2)\n",
      "Requirement already satisfied: numpy>=1.6.1 in /Applications/miniconda3/lib/python3.9/site-packages (from wordcloud) (1.23.5)\n",
      "Requirement already satisfied: pillow in /Applications/miniconda3/lib/python3.9/site-packages (from wordcloud) (9.5.0)\n",
      "Requirement already satisfied: matplotlib in /Applications/miniconda3/lib/python3.9/site-packages (from wordcloud) (3.7.1)\n",
      "Requirement already satisfied: contourpy>=1.0.1 in /Applications/miniconda3/lib/python3.9/site-packages (from matplotlib->wordcloud) (1.0.7)\n",
      "Requirement already satisfied: cycler>=0.10 in /Applications/miniconda3/lib/python3.9/site-packages (from matplotlib->wordcloud) (0.11.0)\n",
      "Requirement already satisfied: fonttools>=4.22.0 in /Applications/miniconda3/lib/python3.9/site-packages (from matplotlib->wordcloud) (4.39.3)\n",
      "Requirement already satisfied: kiwisolver>=1.0.1 in /Applications/miniconda3/lib/python3.9/site-packages (from matplotlib->wordcloud) (1.4.4)\n",
      "Requirement already satisfied: packaging>=20.0 in /Applications/miniconda3/lib/python3.9/site-packages (from matplotlib->wordcloud) (23.0)\n",
      "Requirement already satisfied: pyparsing>=2.3.1 in /Applications/miniconda3/lib/python3.9/site-packages (from matplotlib->wordcloud) (3.0.9)\n",
      "Requirement already satisfied: python-dateutil>=2.7 in /Applications/miniconda3/lib/python3.9/site-packages (from matplotlib->wordcloud) (2.8.2)\n",
      "Requirement already satisfied: importlib-resources>=3.2.0 in /Applications/miniconda3/lib/python3.9/site-packages (from matplotlib->wordcloud) (5.12.0)\n",
      "Requirement already satisfied: zipp>=3.1.0 in /Applications/miniconda3/lib/python3.9/site-packages (from importlib-resources>=3.2.0->matplotlib->wordcloud) (3.11.0)\n",
      "Requirement already satisfied: six>=1.5 in /Applications/miniconda3/lib/python3.9/site-packages (from python-dateutil>=2.7->matplotlib->wordcloud) (1.16.0)\n",
      "Note: you may need to restart the kernel to use updated packages.\n"
     ]
    }
   ],
   "source": [
    "pip install wordcloud"
   ]
  },
  {
   "cell_type": "code",
   "execution_count": 2,
   "metadata": {
    "id": "O-Q9pqrcJrFr"
   },
   "outputs": [
    {
     "name": "stderr",
     "output_type": "stream",
     "text": [
      "2023-07-09 18:44:03.330990: I tensorflow/core/platform/cpu_feature_guard.cc:182] This TensorFlow binary is optimized to use available CPU instructions in performance-critical operations.\n",
      "To enable the following instructions: AVX2 FMA, in other operations, rebuild TensorFlow with the appropriate compiler flags.\n"
     ]
    },
    {
     "name": "stdout",
     "output_type": "stream",
     "text": [
      "Requirement already satisfied: scikit-plot in /Applications/miniconda3/lib/python3.9/site-packages (0.3.7)\n",
      "Requirement already satisfied: matplotlib>=1.4.0 in /Applications/miniconda3/lib/python3.9/site-packages (from scikit-plot) (3.7.1)\n",
      "Requirement already satisfied: scikit-learn>=0.18 in /Applications/miniconda3/lib/python3.9/site-packages (from scikit-plot) (1.2.2)\n",
      "Requirement already satisfied: scipy>=0.9 in /Applications/miniconda3/lib/python3.9/site-packages (from scikit-plot) (1.10.1)\n",
      "Requirement already satisfied: joblib>=0.10 in /Applications/miniconda3/lib/python3.9/site-packages (from scikit-plot) (1.1.1)\n",
      "Requirement already satisfied: contourpy>=1.0.1 in /Applications/miniconda3/lib/python3.9/site-packages (from matplotlib>=1.4.0->scikit-plot) (1.0.7)\n",
      "Requirement already satisfied: cycler>=0.10 in /Applications/miniconda3/lib/python3.9/site-packages (from matplotlib>=1.4.0->scikit-plot) (0.11.0)\n",
      "Requirement already satisfied: fonttools>=4.22.0 in /Applications/miniconda3/lib/python3.9/site-packages (from matplotlib>=1.4.0->scikit-plot) (4.39.3)\n",
      "Requirement already satisfied: kiwisolver>=1.0.1 in /Applications/miniconda3/lib/python3.9/site-packages (from matplotlib>=1.4.0->scikit-plot) (1.4.4)\n",
      "Requirement already satisfied: numpy>=1.20 in /Applications/miniconda3/lib/python3.9/site-packages (from matplotlib>=1.4.0->scikit-plot) (1.23.5)\n",
      "Requirement already satisfied: packaging>=20.0 in /Applications/miniconda3/lib/python3.9/site-packages (from matplotlib>=1.4.0->scikit-plot) (23.0)\n",
      "Requirement already satisfied: pillow>=6.2.0 in /Applications/miniconda3/lib/python3.9/site-packages (from matplotlib>=1.4.0->scikit-plot) (9.5.0)\n",
      "Requirement already satisfied: pyparsing>=2.3.1 in /Applications/miniconda3/lib/python3.9/site-packages (from matplotlib>=1.4.0->scikit-plot) (3.0.9)\n",
      "Requirement already satisfied: python-dateutil>=2.7 in /Applications/miniconda3/lib/python3.9/site-packages (from matplotlib>=1.4.0->scikit-plot) (2.8.2)\n",
      "Requirement already satisfied: importlib-resources>=3.2.0 in /Applications/miniconda3/lib/python3.9/site-packages (from matplotlib>=1.4.0->scikit-plot) (5.12.0)\n",
      "Requirement already satisfied: threadpoolctl>=2.0.0 in /Applications/miniconda3/lib/python3.9/site-packages (from scikit-learn>=0.18->scikit-plot) (2.2.0)\n",
      "Requirement already satisfied: zipp>=3.1.0 in /Applications/miniconda3/lib/python3.9/site-packages (from importlib-resources>=3.2.0->matplotlib>=1.4.0->scikit-plot) (3.11.0)\n",
      "Requirement already satisfied: six>=1.5 in /Applications/miniconda3/lib/python3.9/site-packages (from python-dateutil>=2.7->matplotlib>=1.4.0->scikit-plot) (1.16.0)\n"
     ]
    }
   ],
   "source": [
    "import json \n",
    "import numpy as np\n",
    "import pandas as pd\n",
    "import re, nltk, spacy, string\n",
    "import en_core_web_sm\n",
    "nlp = en_core_web_sm.load()\n",
    "import seaborn as sns\n",
    "import matplotlib.pyplot as plt\n",
    "%matplotlib inline\n",
    "\n",
    "from plotly.offline import plot\n",
    "import plotly.graph_objects as go\n",
    "import plotly.express as px\n",
    "\n",
    "from sklearn.feature_extraction.text import CountVectorizer, TfidfVectorizer\n",
    "from pprint import pprint\n",
    "from wordcloud import WordCloud, STOPWORDS\n",
    "\n",
    "import pickle\n",
    "from sklearn.feature_extraction.text import CountVectorizer, TfidfVectorizer, TfidfTransformer\n",
    "\n",
    "from sklearn.model_selection import RandomizedSearchCV, GridSearchCV\n",
    "from sklearn.metrics import confusion_matrix, classification_report\n",
    "from sklearn.metrics import precision_score, recall_score, f1_score\n",
    "!pip install scikit-plot\n",
    "from scikitplot.metrics import plot_roc_curve"
   ]
  },
  {
   "cell_type": "markdown",
   "metadata": {
    "id": "KtRLCsNVJrFt"
   },
   "source": [
    "## Loading the data\n",
    "\n",
    "The data is in JSON format and we need to convert it to a dataframe."
   ]
  },
  {
   "cell_type": "code",
   "execution_count": 3,
   "metadata": {
    "id": "puVzIf_iJrFt"
   },
   "outputs": [],
   "source": [
    "# Opening JSON file \n",
    "f = open('complaints-2021-05-14_08_16.json')\n",
    "  \n",
    "# returns JSON object as  \n",
    "# a dictionary \n",
    "data = json.load(f)\n",
    "df=pd.json_normalize(data)"
   ]
  },
  {
   "cell_type": "markdown",
   "metadata": {
    "id": "_xYpH-sAJrFu"
   },
   "source": [
    "## Data preparation"
   ]
  },
  {
   "cell_type": "code",
   "execution_count": 4,
   "metadata": {
    "id": "Lf8ufHH5JrFu"
   },
   "outputs": [
    {
     "data": {
      "text/html": [
       "<div>\n",
       "<style scoped>\n",
       "    .dataframe tbody tr th:only-of-type {\n",
       "        vertical-align: middle;\n",
       "    }\n",
       "\n",
       "    .dataframe tbody tr th {\n",
       "        vertical-align: top;\n",
       "    }\n",
       "\n",
       "    .dataframe thead th {\n",
       "        text-align: right;\n",
       "    }\n",
       "</style>\n",
       "<table border=\"1\" class=\"dataframe\">\n",
       "  <thead>\n",
       "    <tr style=\"text-align: right;\">\n",
       "      <th></th>\n",
       "      <th>_index</th>\n",
       "      <th>_type</th>\n",
       "      <th>_id</th>\n",
       "      <th>_score</th>\n",
       "      <th>_source.tags</th>\n",
       "      <th>_source.zip_code</th>\n",
       "      <th>_source.complaint_id</th>\n",
       "      <th>_source.issue</th>\n",
       "      <th>_source.date_received</th>\n",
       "      <th>_source.state</th>\n",
       "      <th>...</th>\n",
       "      <th>_source.company_response</th>\n",
       "      <th>_source.company</th>\n",
       "      <th>_source.submitted_via</th>\n",
       "      <th>_source.date_sent_to_company</th>\n",
       "      <th>_source.company_public_response</th>\n",
       "      <th>_source.sub_product</th>\n",
       "      <th>_source.timely</th>\n",
       "      <th>_source.complaint_what_happened</th>\n",
       "      <th>_source.sub_issue</th>\n",
       "      <th>_source.consumer_consent_provided</th>\n",
       "    </tr>\n",
       "  </thead>\n",
       "  <tbody>\n",
       "    <tr>\n",
       "      <th>0</th>\n",
       "      <td>complaint-public-v2</td>\n",
       "      <td>complaint</td>\n",
       "      <td>3211475</td>\n",
       "      <td>0.0</td>\n",
       "      <td>None</td>\n",
       "      <td>90301</td>\n",
       "      <td>3211475</td>\n",
       "      <td>Attempts to collect debt not owed</td>\n",
       "      <td>2019-04-13T12:00:00-05:00</td>\n",
       "      <td>CA</td>\n",
       "      <td>...</td>\n",
       "      <td>Closed with explanation</td>\n",
       "      <td>JPMORGAN CHASE &amp; CO.</td>\n",
       "      <td>Web</td>\n",
       "      <td>2019-04-13T12:00:00-05:00</td>\n",
       "      <td>None</td>\n",
       "      <td>Credit card debt</td>\n",
       "      <td>Yes</td>\n",
       "      <td></td>\n",
       "      <td>Debt is not yours</td>\n",
       "      <td>Consent not provided</td>\n",
       "    </tr>\n",
       "    <tr>\n",
       "      <th>1</th>\n",
       "      <td>complaint-public-v2</td>\n",
       "      <td>complaint</td>\n",
       "      <td>3229299</td>\n",
       "      <td>0.0</td>\n",
       "      <td>Servicemember</td>\n",
       "      <td>319XX</td>\n",
       "      <td>3229299</td>\n",
       "      <td>Written notification about debt</td>\n",
       "      <td>2019-05-01T12:00:00-05:00</td>\n",
       "      <td>GA</td>\n",
       "      <td>...</td>\n",
       "      <td>Closed with explanation</td>\n",
       "      <td>JPMORGAN CHASE &amp; CO.</td>\n",
       "      <td>Web</td>\n",
       "      <td>2019-05-01T12:00:00-05:00</td>\n",
       "      <td>None</td>\n",
       "      <td>Credit card debt</td>\n",
       "      <td>Yes</td>\n",
       "      <td>Good morning my name is XXXX XXXX and I apprec...</td>\n",
       "      <td>Didn't receive enough information to verify debt</td>\n",
       "      <td>Consent provided</td>\n",
       "    </tr>\n",
       "    <tr>\n",
       "      <th>2</th>\n",
       "      <td>complaint-public-v2</td>\n",
       "      <td>complaint</td>\n",
       "      <td>3199379</td>\n",
       "      <td>0.0</td>\n",
       "      <td>None</td>\n",
       "      <td>77069</td>\n",
       "      <td>3199379</td>\n",
       "      <td>Other features, terms, or problems</td>\n",
       "      <td>2019-04-02T12:00:00-05:00</td>\n",
       "      <td>TX</td>\n",
       "      <td>...</td>\n",
       "      <td>Closed with explanation</td>\n",
       "      <td>JPMORGAN CHASE &amp; CO.</td>\n",
       "      <td>Web</td>\n",
       "      <td>2019-04-02T12:00:00-05:00</td>\n",
       "      <td>None</td>\n",
       "      <td>General-purpose credit card or charge card</td>\n",
       "      <td>Yes</td>\n",
       "      <td>I upgraded my XXXX XXXX card in XX/XX/2018 and...</td>\n",
       "      <td>Problem with rewards from credit card</td>\n",
       "      <td>Consent provided</td>\n",
       "    </tr>\n",
       "    <tr>\n",
       "      <th>3</th>\n",
       "      <td>complaint-public-v2</td>\n",
       "      <td>complaint</td>\n",
       "      <td>2673060</td>\n",
       "      <td>0.0</td>\n",
       "      <td>None</td>\n",
       "      <td>48066</td>\n",
       "      <td>2673060</td>\n",
       "      <td>Trouble during payment process</td>\n",
       "      <td>2017-09-13T12:00:00-05:00</td>\n",
       "      <td>MI</td>\n",
       "      <td>...</td>\n",
       "      <td>Closed with explanation</td>\n",
       "      <td>JPMORGAN CHASE &amp; CO.</td>\n",
       "      <td>Web</td>\n",
       "      <td>2017-09-14T12:00:00-05:00</td>\n",
       "      <td>None</td>\n",
       "      <td>Conventional home mortgage</td>\n",
       "      <td>Yes</td>\n",
       "      <td></td>\n",
       "      <td>None</td>\n",
       "      <td>Consent not provided</td>\n",
       "    </tr>\n",
       "    <tr>\n",
       "      <th>4</th>\n",
       "      <td>complaint-public-v2</td>\n",
       "      <td>complaint</td>\n",
       "      <td>3203545</td>\n",
       "      <td>0.0</td>\n",
       "      <td>None</td>\n",
       "      <td>10473</td>\n",
       "      <td>3203545</td>\n",
       "      <td>Fees or interest</td>\n",
       "      <td>2019-04-05T12:00:00-05:00</td>\n",
       "      <td>NY</td>\n",
       "      <td>...</td>\n",
       "      <td>Closed with explanation</td>\n",
       "      <td>JPMORGAN CHASE &amp; CO.</td>\n",
       "      <td>Referral</td>\n",
       "      <td>2019-04-05T12:00:00-05:00</td>\n",
       "      <td>None</td>\n",
       "      <td>General-purpose credit card or charge card</td>\n",
       "      <td>Yes</td>\n",
       "      <td></td>\n",
       "      <td>Charged too much interest</td>\n",
       "      <td>N/A</td>\n",
       "    </tr>\n",
       "  </tbody>\n",
       "</table>\n",
       "<p>5 rows × 22 columns</p>\n",
       "</div>"
      ],
      "text/plain": [
       "                _index      _type      _id  _score   _source.tags   \n",
       "0  complaint-public-v2  complaint  3211475     0.0           None  \\\n",
       "1  complaint-public-v2  complaint  3229299     0.0  Servicemember   \n",
       "2  complaint-public-v2  complaint  3199379     0.0           None   \n",
       "3  complaint-public-v2  complaint  2673060     0.0           None   \n",
       "4  complaint-public-v2  complaint  3203545     0.0           None   \n",
       "\n",
       "  _source.zip_code _source.complaint_id                       _source.issue   \n",
       "0            90301              3211475   Attempts to collect debt not owed  \\\n",
       "1            319XX              3229299     Written notification about debt   \n",
       "2            77069              3199379  Other features, terms, or problems   \n",
       "3            48066              2673060      Trouble during payment process   \n",
       "4            10473              3203545                    Fees or interest   \n",
       "\n",
       "       _source.date_received _source.state  ... _source.company_response   \n",
       "0  2019-04-13T12:00:00-05:00            CA  ...  Closed with explanation  \\\n",
       "1  2019-05-01T12:00:00-05:00            GA  ...  Closed with explanation   \n",
       "2  2019-04-02T12:00:00-05:00            TX  ...  Closed with explanation   \n",
       "3  2017-09-13T12:00:00-05:00            MI  ...  Closed with explanation   \n",
       "4  2019-04-05T12:00:00-05:00            NY  ...  Closed with explanation   \n",
       "\n",
       "        _source.company _source.submitted_via _source.date_sent_to_company   \n",
       "0  JPMORGAN CHASE & CO.                   Web    2019-04-13T12:00:00-05:00  \\\n",
       "1  JPMORGAN CHASE & CO.                   Web    2019-05-01T12:00:00-05:00   \n",
       "2  JPMORGAN CHASE & CO.                   Web    2019-04-02T12:00:00-05:00   \n",
       "3  JPMORGAN CHASE & CO.                   Web    2017-09-14T12:00:00-05:00   \n",
       "4  JPMORGAN CHASE & CO.              Referral    2019-04-05T12:00:00-05:00   \n",
       "\n",
       "  _source.company_public_response                         _source.sub_product   \n",
       "0                            None                            Credit card debt  \\\n",
       "1                            None                            Credit card debt   \n",
       "2                            None  General-purpose credit card or charge card   \n",
       "3                            None                  Conventional home mortgage   \n",
       "4                            None  General-purpose credit card or charge card   \n",
       "\n",
       "  _source.timely                    _source.complaint_what_happened   \n",
       "0            Yes                                                     \\\n",
       "1            Yes  Good morning my name is XXXX XXXX and I apprec...   \n",
       "2            Yes  I upgraded my XXXX XXXX card in XX/XX/2018 and...   \n",
       "3            Yes                                                      \n",
       "4            Yes                                                      \n",
       "\n",
       "                                  _source.sub_issue   \n",
       "0                                 Debt is not yours  \\\n",
       "1  Didn't receive enough information to verify debt   \n",
       "2             Problem with rewards from credit card   \n",
       "3                                              None   \n",
       "4                         Charged too much interest   \n",
       "\n",
       "  _source.consumer_consent_provided  \n",
       "0              Consent not provided  \n",
       "1                  Consent provided  \n",
       "2                  Consent provided  \n",
       "3              Consent not provided  \n",
       "4                               N/A  \n",
       "\n",
       "[5 rows x 22 columns]"
      ]
     },
     "execution_count": 4,
     "metadata": {},
     "output_type": "execute_result"
    }
   ],
   "source": [
    "# Inspect the dataframe to understand the given data.\n",
    "df.head()"
   ]
  },
  {
   "cell_type": "code",
   "execution_count": 5,
   "metadata": {},
   "outputs": [
    {
     "name": "stdout",
     "output_type": "stream",
     "text": [
      "<class 'pandas.core.frame.DataFrame'>\n",
      "RangeIndex: 78313 entries, 0 to 78312\n",
      "Data columns (total 22 columns):\n",
      " #   Column                             Non-Null Count  Dtype  \n",
      "---  ------                             --------------  -----  \n",
      " 0   _index                             78313 non-null  object \n",
      " 1   _type                              78313 non-null  object \n",
      " 2   _id                                78313 non-null  object \n",
      " 3   _score                             78313 non-null  float64\n",
      " 4   _source.tags                       10900 non-null  object \n",
      " 5   _source.zip_code                   71556 non-null  object \n",
      " 6   _source.complaint_id               78313 non-null  object \n",
      " 7   _source.issue                      78313 non-null  object \n",
      " 8   _source.date_received              78313 non-null  object \n",
      " 9   _source.state                      76322 non-null  object \n",
      " 10  _source.consumer_disputed          78313 non-null  object \n",
      " 11  _source.product                    78313 non-null  object \n",
      " 12  _source.company_response           78313 non-null  object \n",
      " 13  _source.company                    78313 non-null  object \n",
      " 14  _source.submitted_via              78313 non-null  object \n",
      " 15  _source.date_sent_to_company       78313 non-null  object \n",
      " 16  _source.company_public_response    4 non-null      object \n",
      " 17  _source.sub_product                67742 non-null  object \n",
      " 18  _source.timely                     78313 non-null  object \n",
      " 19  _source.complaint_what_happened    78313 non-null  object \n",
      " 20  _source.sub_issue                  32016 non-null  object \n",
      " 21  _source.consumer_consent_provided  77305 non-null  object \n",
      "dtypes: float64(1), object(21)\n",
      "memory usage: 13.1+ MB\n"
     ]
    }
   ],
   "source": [
    "# Check the dataframe\n",
    "df.info()"
   ]
  },
  {
   "cell_type": "code",
   "execution_count": 6,
   "metadata": {
    "id": "Dwcty-wmJrFw"
   },
   "outputs": [
    {
     "data": {
      "text/plain": [
       "Index(['_index', '_type', '_id', '_score', '_source.tags', '_source.zip_code',\n",
       "       '_source.complaint_id', '_source.issue', '_source.date_received',\n",
       "       '_source.state', '_source.consumer_disputed', '_source.product',\n",
       "       '_source.company_response', '_source.company', '_source.submitted_via',\n",
       "       '_source.date_sent_to_company', '_source.company_public_response',\n",
       "       '_source.sub_product', '_source.timely',\n",
       "       '_source.complaint_what_happened', '_source.sub_issue',\n",
       "       '_source.consumer_consent_provided'],\n",
       "      dtype='object')"
      ]
     },
     "execution_count": 6,
     "metadata": {},
     "output_type": "execute_result"
    }
   ],
   "source": [
    "# print the column names\n",
    "df.columns"
   ]
  },
  {
   "cell_type": "code",
   "execution_count": 7,
   "metadata": {
    "id": "FYCtKXD1JrFw"
   },
   "outputs": [],
   "source": [
    "# Assign new column names\n",
    "\n",
    "df.rename(columns={'_source.product':'tag', '_source.complaint_what_happened':'complaints_what_happened'}, inplace=True)"
   ]
  },
  {
   "cell_type": "code",
   "execution_count": 8,
   "metadata": {},
   "outputs": [
    {
     "data": {
      "text/plain": [
       "Index(['_index', '_type', '_id', '_score', '_source.tags', '_source.zip_code',\n",
       "       '_source.complaint_id', '_source.issue', '_source.date_received',\n",
       "       '_source.state', '_source.consumer_disputed', 'tag',\n",
       "       '_source.company_response', '_source.company', '_source.submitted_via',\n",
       "       '_source.date_sent_to_company', '_source.company_public_response',\n",
       "       '_source.sub_product', '_source.timely', 'complaints_what_happened',\n",
       "       '_source.sub_issue', '_source.consumer_consent_provided'],\n",
       "      dtype='object')"
      ]
     },
     "execution_count": 8,
     "metadata": {},
     "output_type": "execute_result"
    }
   ],
   "source": [
    "df.columns"
   ]
  },
  {
   "cell_type": "code",
   "execution_count": 9,
   "metadata": {},
   "outputs": [],
   "source": [
    "df_filtered = df[['tag', 'complaints_what_happened']]"
   ]
  },
  {
   "cell_type": "code",
   "execution_count": 10,
   "metadata": {},
   "outputs": [
    {
     "data": {
      "text/html": [
       "<div>\n",
       "<style scoped>\n",
       "    .dataframe tbody tr th:only-of-type {\n",
       "        vertical-align: middle;\n",
       "    }\n",
       "\n",
       "    .dataframe tbody tr th {\n",
       "        vertical-align: top;\n",
       "    }\n",
       "\n",
       "    .dataframe thead th {\n",
       "        text-align: right;\n",
       "    }\n",
       "</style>\n",
       "<table border=\"1\" class=\"dataframe\">\n",
       "  <thead>\n",
       "    <tr style=\"text-align: right;\">\n",
       "      <th></th>\n",
       "      <th>tag</th>\n",
       "      <th>complaints_what_happened</th>\n",
       "    </tr>\n",
       "  </thead>\n",
       "  <tbody>\n",
       "    <tr>\n",
       "      <th>0</th>\n",
       "      <td>Debt collection</td>\n",
       "      <td></td>\n",
       "    </tr>\n",
       "    <tr>\n",
       "      <th>1</th>\n",
       "      <td>Debt collection</td>\n",
       "      <td>Good morning my name is XXXX XXXX and I apprec...</td>\n",
       "    </tr>\n",
       "    <tr>\n",
       "      <th>2</th>\n",
       "      <td>Credit card or prepaid card</td>\n",
       "      <td>I upgraded my XXXX XXXX card in XX/XX/2018 and...</td>\n",
       "    </tr>\n",
       "    <tr>\n",
       "      <th>3</th>\n",
       "      <td>Mortgage</td>\n",
       "      <td></td>\n",
       "    </tr>\n",
       "    <tr>\n",
       "      <th>4</th>\n",
       "      <td>Credit card or prepaid card</td>\n",
       "      <td></td>\n",
       "    </tr>\n",
       "  </tbody>\n",
       "</table>\n",
       "</div>"
      ],
      "text/plain": [
       "                           tag   \n",
       "0              Debt collection  \\\n",
       "1              Debt collection   \n",
       "2  Credit card or prepaid card   \n",
       "3                     Mortgage   \n",
       "4  Credit card or prepaid card   \n",
       "\n",
       "                            complaints_what_happened  \n",
       "0                                                     \n",
       "1  Good morning my name is XXXX XXXX and I apprec...  \n",
       "2  I upgraded my XXXX XXXX card in XX/XX/2018 and...  \n",
       "3                                                     \n",
       "4                                                     "
      ]
     },
     "execution_count": 10,
     "metadata": {},
     "output_type": "execute_result"
    }
   ],
   "source": [
    "df_filtered.head()"
   ]
  },
  {
   "cell_type": "code",
   "execution_count": 11,
   "metadata": {},
   "outputs": [
    {
     "name": "stdout",
     "output_type": "stream",
     "text": [
      "<class 'pandas.core.frame.DataFrame'>\n",
      "RangeIndex: 78313 entries, 0 to 78312\n",
      "Data columns (total 2 columns):\n",
      " #   Column                    Non-Null Count  Dtype \n",
      "---  ------                    --------------  ----- \n",
      " 0   tag                       78313 non-null  object\n",
      " 1   complaints_what_happened  78313 non-null  object\n",
      "dtypes: object(2)\n",
      "memory usage: 1.2+ MB\n"
     ]
    }
   ],
   "source": [
    "df_filtered.info()"
   ]
  },
  {
   "cell_type": "code",
   "execution_count": 12,
   "metadata": {
    "id": "grQUPFL5JrFx"
   },
   "outputs": [
    {
     "name": "stderr",
     "output_type": "stream",
     "text": [
      "/var/folders/6y/qbtk58qn6xzg2hg96358lmd80000gn/T/ipykernel_31984/2293948616.py:2: SettingWithCopyWarning:\n",
      "\n",
      "\n",
      "A value is trying to be set on a copy of a slice from a DataFrame.\n",
      "Try using .loc[row_indexer,col_indexer] = value instead\n",
      "\n",
      "See the caveats in the documentation: https://pandas.pydata.org/pandas-docs/stable/user_guide/indexing.html#returning-a-view-versus-a-copy\n",
      "\n",
      "/var/folders/6y/qbtk58qn6xzg2hg96358lmd80000gn/T/ipykernel_31984/2293948616.py:2: SettingWithCopyWarning:\n",
      "\n",
      "\n",
      "A value is trying to be set on a copy of a slice from a DataFrame\n",
      "\n",
      "See the caveats in the documentation: https://pandas.pydata.org/pandas-docs/stable/user_guide/indexing.html#returning-a-view-versus-a-copy\n",
      "\n"
     ]
    }
   ],
   "source": [
    "#Assign nan in place of blanks in the complaints column\n",
    "df_filtered[df_filtered.loc[:, 'complaints_what_happened'] == ''] = np.nan"
   ]
  },
  {
   "cell_type": "code",
   "execution_count": 13,
   "metadata": {},
   "outputs": [
    {
     "data": {
      "text/plain": [
       "(0, 2)"
      ]
     },
     "execution_count": 13,
     "metadata": {},
     "output_type": "execute_result"
    }
   ],
   "source": [
    "# Verifying if blank values still exists in the dataframe\n",
    "df_filtered[df_filtered.loc[:, 'complaints_what_happened'] == ''].shape"
   ]
  },
  {
   "cell_type": "code",
   "execution_count": 14,
   "metadata": {},
   "outputs": [
    {
     "data": {
      "text/html": [
       "<div>\n",
       "<style scoped>\n",
       "    .dataframe tbody tr th:only-of-type {\n",
       "        vertical-align: middle;\n",
       "    }\n",
       "\n",
       "    .dataframe tbody tr th {\n",
       "        vertical-align: top;\n",
       "    }\n",
       "\n",
       "    .dataframe thead th {\n",
       "        text-align: right;\n",
       "    }\n",
       "</style>\n",
       "<table border=\"1\" class=\"dataframe\">\n",
       "  <thead>\n",
       "    <tr style=\"text-align: right;\">\n",
       "      <th></th>\n",
       "      <th>tag</th>\n",
       "      <th>complaints_what_happened</th>\n",
       "    </tr>\n",
       "  </thead>\n",
       "  <tbody>\n",
       "    <tr>\n",
       "      <th>0</th>\n",
       "      <td>NaN</td>\n",
       "      <td>NaN</td>\n",
       "    </tr>\n",
       "    <tr>\n",
       "      <th>1</th>\n",
       "      <td>Debt collection</td>\n",
       "      <td>Good morning my name is XXXX XXXX and I apprec...</td>\n",
       "    </tr>\n",
       "    <tr>\n",
       "      <th>2</th>\n",
       "      <td>Credit card or prepaid card</td>\n",
       "      <td>I upgraded my XXXX XXXX card in XX/XX/2018 and...</td>\n",
       "    </tr>\n",
       "    <tr>\n",
       "      <th>3</th>\n",
       "      <td>NaN</td>\n",
       "      <td>NaN</td>\n",
       "    </tr>\n",
       "    <tr>\n",
       "      <th>4</th>\n",
       "      <td>NaN</td>\n",
       "      <td>NaN</td>\n",
       "    </tr>\n",
       "  </tbody>\n",
       "</table>\n",
       "</div>"
      ],
      "text/plain": [
       "                           tag   \n",
       "0                          NaN  \\\n",
       "1              Debt collection   \n",
       "2  Credit card or prepaid card   \n",
       "3                          NaN   \n",
       "4                          NaN   \n",
       "\n",
       "                            complaints_what_happened  \n",
       "0                                                NaN  \n",
       "1  Good morning my name is XXXX XXXX and I apprec...  \n",
       "2  I upgraded my XXXX XXXX card in XX/XX/2018 and...  \n",
       "3                                                NaN  \n",
       "4                                                NaN  "
      ]
     },
     "execution_count": 14,
     "metadata": {},
     "output_type": "execute_result"
    }
   ],
   "source": [
    "df_filtered.head()"
   ]
  },
  {
   "cell_type": "code",
   "execution_count": 15,
   "metadata": {
    "id": "Jfxd8VSmJrFy"
   },
   "outputs": [],
   "source": [
    "#Remove all rows where complaints column is nan\n",
    "df_filtered = df_filtered[~df_filtered['complaints_what_happened'].isnull()]"
   ]
  },
  {
   "cell_type": "code",
   "execution_count": 16,
   "metadata": {},
   "outputs": [
    {
     "data": {
      "text/plain": [
       "(21072, 2)"
      ]
     },
     "execution_count": 16,
     "metadata": {},
     "output_type": "execute_result"
    }
   ],
   "source": [
    "df_filtered.shape"
   ]
  },
  {
   "cell_type": "markdown",
   "metadata": {
    "id": "L944HZpsJrFy"
   },
   "source": [
    "## Prepare the text for topic modeling\n",
    "\n",
    "Once you have removed all the blank complaints, you need to:\n",
    "\n",
    "* Make the text lowercase\n",
    "* Remove text in square brackets\n",
    "* Remove punctuation\n",
    "* Remove words containing numbers\n",
    "\n",
    "\n",
    "Once you have done these cleaning operations you need to perform the following:\n",
    "* Lemmatize the texts\n",
    "* Extract the POS tags of the lemmatized text and remove all the words which have tags other than NN[tag == \"NN\"].\n"
   ]
  },
  {
   "cell_type": "code",
   "execution_count": 17,
   "metadata": {},
   "outputs": [],
   "source": [
    "# Convert complaint_what_happened column to string for performing text operations\n",
    "df_filtered['complaints_what_happened'] = df_filtered['complaints_what_happened'].astype(str)"
   ]
  },
  {
   "cell_type": "code",
   "execution_count": 18,
   "metadata": {
    "id": "qm7SjjSkJrFz"
   },
   "outputs": [],
   "source": [
    "# Write your function here to clean the text and remove all the unnecessary elements.\n",
    "def clean_data(text):\n",
    "    text = text.lower() # text to lowercase\n",
    "    text = re.sub(r'\\s\\{\\$\\S*', '',text) # Remove text within curly braces\n",
    "    text = re.sub(r'\\n', '', text) # Remove line breaks\n",
    "    text = re.sub(r'\\(\\w*\\)', '', text) # Remove text within braces\n",
    "    text = re.sub(r'(\\W\\s)|(\\W$)|(\\W\\d*)', ' ',text) # Remove punctuation\n",
    "    text = re.sub(r'\\d+\\s', '', text) # Remove other numerical values\n",
    "    return text"
   ]
  },
  {
   "cell_type": "code",
   "execution_count": 19,
   "metadata": {},
   "outputs": [],
   "source": [
    "df_clean = pd.DataFrame(df_filtered['complaints_what_happened'].apply(clean_data))\n"
   ]
  },
  {
   "cell_type": "code",
   "execution_count": 20,
   "metadata": {},
   "outputs": [
    {
     "data": {
      "text/html": [
       "<div>\n",
       "<style scoped>\n",
       "    .dataframe tbody tr th:only-of-type {\n",
       "        vertical-align: middle;\n",
       "    }\n",
       "\n",
       "    .dataframe tbody tr th {\n",
       "        vertical-align: top;\n",
       "    }\n",
       "\n",
       "    .dataframe thead th {\n",
       "        text-align: right;\n",
       "    }\n",
       "</style>\n",
       "<table border=\"1\" class=\"dataframe\">\n",
       "  <thead>\n",
       "    <tr style=\"text-align: right;\">\n",
       "      <th></th>\n",
       "      <th>complaints_what_happened</th>\n",
       "    </tr>\n",
       "  </thead>\n",
       "  <tbody>\n",
       "    <tr>\n",
       "      <th>1</th>\n",
       "      <td>good morning my name is xxxx xxxx and i apprec...</td>\n",
       "    </tr>\n",
       "    <tr>\n",
       "      <th>2</th>\n",
       "      <td>i upgraded my xxxx xxxx card in xx xx  and was...</td>\n",
       "    </tr>\n",
       "    <tr>\n",
       "      <th>10</th>\n",
       "      <td>chase card was reported on xx xx  however frau...</td>\n",
       "    </tr>\n",
       "    <tr>\n",
       "      <th>11</th>\n",
       "      <td>on xx xx  while trying to book a xxxx xxxx tic...</td>\n",
       "    </tr>\n",
       "    <tr>\n",
       "      <th>14</th>\n",
       "      <td>my grand son give me check for i deposit it in...</td>\n",
       "    </tr>\n",
       "    <tr>\n",
       "      <th>...</th>\n",
       "      <td>...</td>\n",
       "    </tr>\n",
       "    <tr>\n",
       "      <th>78303</th>\n",
       "      <td>after being a chase card customer for well ove...</td>\n",
       "    </tr>\n",
       "    <tr>\n",
       "      <th>78309</th>\n",
       "      <td>on wednesday xx xx xxxx i called chas my xxxx ...</td>\n",
       "    </tr>\n",
       "    <tr>\n",
       "      <th>78310</th>\n",
       "      <td>i am not familiar with xxxx pay and did not un...</td>\n",
       "    </tr>\n",
       "    <tr>\n",
       "      <th>78311</th>\n",
       "      <td>i have had flawless credit for  yrs i ve had c...</td>\n",
       "    </tr>\n",
       "    <tr>\n",
       "      <th>78312</th>\n",
       "      <td>roughly  years ago i closed out my accounts wi...</td>\n",
       "    </tr>\n",
       "  </tbody>\n",
       "</table>\n",
       "<p>21072 rows × 1 columns</p>\n",
       "</div>"
      ],
      "text/plain": [
       "                                complaints_what_happened\n",
       "1      good morning my name is xxxx xxxx and i apprec...\n",
       "2      i upgraded my xxxx xxxx card in xx xx  and was...\n",
       "10     chase card was reported on xx xx  however frau...\n",
       "11     on xx xx  while trying to book a xxxx xxxx tic...\n",
       "14     my grand son give me check for i deposit it in...\n",
       "...                                                  ...\n",
       "78303  after being a chase card customer for well ove...\n",
       "78309  on wednesday xx xx xxxx i called chas my xxxx ...\n",
       "78310  i am not familiar with xxxx pay and did not un...\n",
       "78311  i have had flawless credit for  yrs i ve had c...\n",
       "78312  roughly  years ago i closed out my accounts wi...\n",
       "\n",
       "[21072 rows x 1 columns]"
      ]
     },
     "execution_count": 20,
     "metadata": {},
     "output_type": "execute_result"
    }
   ],
   "source": [
    "df_clean"
   ]
  },
  {
   "cell_type": "code",
   "execution_count": 21,
   "metadata": {
    "id": "zgOu8t8HJrFz"
   },
   "outputs": [],
   "source": [
    "# Write your function to Lemmatize the texts\n",
    "def lemmmatize_text(text):\n",
    "    sent = []\n",
    "    doc = nlp(text)\n",
    "    for token in doc:\n",
    "        sent.append(token.lemma_)\n",
    "    return \" \".join(sent)"
   ]
  },
  {
   "cell_type": "code",
   "execution_count": 22,
   "metadata": {
    "id": "uXnN7aa_JrF0"
   },
   "outputs": [],
   "source": [
    "# Create a dataframe('df_clean') that will have only the complaints and the lemmatized complaints \n",
    "df_clean['complaints_lemmatized'] = df_clean['complaints_what_happened'].apply(lemmmatize_text)"
   ]
  },
  {
   "cell_type": "code",
   "execution_count": 23,
   "metadata": {
    "id": "nOiDVvEIJrF0"
   },
   "outputs": [
    {
     "data": {
      "text/html": [
       "<div>\n",
       "<style scoped>\n",
       "    .dataframe tbody tr th:only-of-type {\n",
       "        vertical-align: middle;\n",
       "    }\n",
       "\n",
       "    .dataframe tbody tr th {\n",
       "        vertical-align: top;\n",
       "    }\n",
       "\n",
       "    .dataframe thead th {\n",
       "        text-align: right;\n",
       "    }\n",
       "</style>\n",
       "<table border=\"1\" class=\"dataframe\">\n",
       "  <thead>\n",
       "    <tr style=\"text-align: right;\">\n",
       "      <th></th>\n",
       "      <th>complaints_what_happened</th>\n",
       "      <th>complaints_lemmatized</th>\n",
       "    </tr>\n",
       "  </thead>\n",
       "  <tbody>\n",
       "    <tr>\n",
       "      <th>1</th>\n",
       "      <td>good morning my name is xxxx xxxx and i apprec...</td>\n",
       "      <td>good morning my name be xxxx xxxx and I apprec...</td>\n",
       "    </tr>\n",
       "    <tr>\n",
       "      <th>2</th>\n",
       "      <td>i upgraded my xxxx xxxx card in xx xx  and was...</td>\n",
       "      <td>I upgrade my xxxx xxxx card in xx xx   and be ...</td>\n",
       "    </tr>\n",
       "    <tr>\n",
       "      <th>10</th>\n",
       "      <td>chase card was reported on xx xx  however frau...</td>\n",
       "      <td>chase card be report on xx xx   however fraudu...</td>\n",
       "    </tr>\n",
       "    <tr>\n",
       "      <th>11</th>\n",
       "      <td>on xx xx  while trying to book a xxxx xxxx tic...</td>\n",
       "      <td>on xx xx   while try to book a xxxx xxxx ticke...</td>\n",
       "    </tr>\n",
       "    <tr>\n",
       "      <th>14</th>\n",
       "      <td>my grand son give me check for i deposit it in...</td>\n",
       "      <td>my grand son give I check for I deposit it int...</td>\n",
       "    </tr>\n",
       "    <tr>\n",
       "      <th>...</th>\n",
       "      <td>...</td>\n",
       "      <td>...</td>\n",
       "    </tr>\n",
       "    <tr>\n",
       "      <th>78303</th>\n",
       "      <td>after being a chase card customer for well ove...</td>\n",
       "      <td>after be a chase card customer for well over a...</td>\n",
       "    </tr>\n",
       "    <tr>\n",
       "      <th>78309</th>\n",
       "      <td>on wednesday xx xx xxxx i called chas my xxxx ...</td>\n",
       "      <td>on wednesday xx xx xxxx I call chas my xxxx xx...</td>\n",
       "    </tr>\n",
       "    <tr>\n",
       "      <th>78310</th>\n",
       "      <td>i am not familiar with xxxx pay and did not un...</td>\n",
       "      <td>I be not familiar with xxxx pay and do not und...</td>\n",
       "    </tr>\n",
       "    <tr>\n",
       "      <th>78311</th>\n",
       "      <td>i have had flawless credit for  yrs i ve had c...</td>\n",
       "      <td>I have have flawless credit for   yrs I ve hav...</td>\n",
       "    </tr>\n",
       "    <tr>\n",
       "      <th>78312</th>\n",
       "      <td>roughly  years ago i closed out my accounts wi...</td>\n",
       "      <td>roughly   year ago I close out my account with...</td>\n",
       "    </tr>\n",
       "  </tbody>\n",
       "</table>\n",
       "<p>21072 rows × 2 columns</p>\n",
       "</div>"
      ],
      "text/plain": [
       "                                complaints_what_happened   \n",
       "1      good morning my name is xxxx xxxx and i apprec...  \\\n",
       "2      i upgraded my xxxx xxxx card in xx xx  and was...   \n",
       "10     chase card was reported on xx xx  however frau...   \n",
       "11     on xx xx  while trying to book a xxxx xxxx tic...   \n",
       "14     my grand son give me check for i deposit it in...   \n",
       "...                                                  ...   \n",
       "78303  after being a chase card customer for well ove...   \n",
       "78309  on wednesday xx xx xxxx i called chas my xxxx ...   \n",
       "78310  i am not familiar with xxxx pay and did not un...   \n",
       "78311  i have had flawless credit for  yrs i ve had c...   \n",
       "78312  roughly  years ago i closed out my accounts wi...   \n",
       "\n",
       "                                   complaints_lemmatized  \n",
       "1      good morning my name be xxxx xxxx and I apprec...  \n",
       "2      I upgrade my xxxx xxxx card in xx xx   and be ...  \n",
       "10     chase card be report on xx xx   however fraudu...  \n",
       "11     on xx xx   while try to book a xxxx xxxx ticke...  \n",
       "14     my grand son give I check for I deposit it int...  \n",
       "...                                                  ...  \n",
       "78303  after be a chase card customer for well over a...  \n",
       "78309  on wednesday xx xx xxxx I call chas my xxxx xx...  \n",
       "78310  I be not familiar with xxxx pay and do not und...  \n",
       "78311  I have have flawless credit for   yrs I ve hav...  \n",
       "78312  roughly   year ago I close out my account with...  \n",
       "\n",
       "[21072 rows x 2 columns]"
      ]
     },
     "execution_count": 23,
     "metadata": {},
     "output_type": "execute_result"
    }
   ],
   "source": [
    "df_clean"
   ]
  },
  {
   "cell_type": "code",
   "execution_count": 24,
   "metadata": {
    "id": "Kk7fc4DuJrF1"
   },
   "outputs": [],
   "source": [
    "# Write your function to extract the POS tags \n",
    "def pos_tags(text):\n",
    "    nn_words = []\n",
    "    doc = nlp(text)\n",
    "    for tok in doc:\n",
    "        if(tok.tag_ == 'NN'):\n",
    "            nn_words.append(tok.lemma_)\n",
    "    nn_pos_tag = \" \".join(nn_words)\n",
    "    return nn_pos_tag\n"
   ]
  },
  {
   "cell_type": "code",
   "execution_count": 25,
   "metadata": {},
   "outputs": [],
   "source": [
    "# Extract Complaint after removing POS tags\n",
    "df_clean['complaints_POS_removed'] = df_clean['complaints_lemmatized'].apply(pos_tags)"
   ]
  },
  {
   "cell_type": "code",
   "execution_count": 26,
   "metadata": {
    "id": "AjxfchvFJrF2"
   },
   "outputs": [
    {
     "data": {
      "text/html": [
       "<div>\n",
       "<style scoped>\n",
       "    .dataframe tbody tr th:only-of-type {\n",
       "        vertical-align: middle;\n",
       "    }\n",
       "\n",
       "    .dataframe tbody tr th {\n",
       "        vertical-align: top;\n",
       "    }\n",
       "\n",
       "    .dataframe thead th {\n",
       "        text-align: right;\n",
       "    }\n",
       "</style>\n",
       "<table border=\"1\" class=\"dataframe\">\n",
       "  <thead>\n",
       "    <tr style=\"text-align: right;\">\n",
       "      <th></th>\n",
       "      <th>complaints_what_happened</th>\n",
       "      <th>complaints_lemmatized</th>\n",
       "      <th>complaints_POS_removed</th>\n",
       "    </tr>\n",
       "  </thead>\n",
       "  <tbody>\n",
       "    <tr>\n",
       "      <th>1</th>\n",
       "      <td>good morning my name is xxxx xxxx and i apprec...</td>\n",
       "      <td>good morning my name be xxxx xxxx and I apprec...</td>\n",
       "      <td>morning name stop bank cardmember service ask ...</td>\n",
       "    </tr>\n",
       "    <tr>\n",
       "      <th>2</th>\n",
       "      <td>i upgraded my xxxx xxxx card in xx xx  and was...</td>\n",
       "      <td>I upgrade my xxxx xxxx card in xx xx   and be ...</td>\n",
       "      <td>xxxx card agent anniversary date agent informa...</td>\n",
       "    </tr>\n",
       "    <tr>\n",
       "      <th>10</th>\n",
       "      <td>chase card was reported on xx xx  however frau...</td>\n",
       "      <td>chase card be report on xx xx   however fraudu...</td>\n",
       "      <td>chase card report application identity consent...</td>\n",
       "    </tr>\n",
       "    <tr>\n",
       "      <th>11</th>\n",
       "      <td>on xx xx  while trying to book a xxxx xxxx tic...</td>\n",
       "      <td>on xx xx   while try to book a xxxx xxxx ticke...</td>\n",
       "      <td>xxxx xxxx ticket offer ticket reward card info...</td>\n",
       "    </tr>\n",
       "    <tr>\n",
       "      <th>14</th>\n",
       "      <td>my grand son give me check for i deposit it in...</td>\n",
       "      <td>my grand son give I check for I deposit it int...</td>\n",
       "      <td>son chase account fund chase bank account mone...</td>\n",
       "    </tr>\n",
       "    <tr>\n",
       "      <th>...</th>\n",
       "      <td>...</td>\n",
       "      <td>...</td>\n",
       "      <td>...</td>\n",
       "    </tr>\n",
       "    <tr>\n",
       "      <th>78303</th>\n",
       "      <td>after being a chase card customer for well ove...</td>\n",
       "      <td>after be a chase card customer for well over a...</td>\n",
       "      <td>chase card customer decade solicitation credit...</td>\n",
       "    </tr>\n",
       "    <tr>\n",
       "      <th>78309</th>\n",
       "      <td>on wednesday xx xx xxxx i called chas my xxxx ...</td>\n",
       "      <td>on wednesday xx xx xxxx I call chas my xxxx xx...</td>\n",
       "      <td>xxxx xxxx credit card provider claim purchase ...</td>\n",
       "    </tr>\n",
       "    <tr>\n",
       "      <th>78310</th>\n",
       "      <td>i am not familiar with xxxx pay and did not un...</td>\n",
       "      <td>I be not familiar with xxxx pay and do not und...</td>\n",
       "      <td>xxxx risk consumer chase bank app chase year b...</td>\n",
       "    </tr>\n",
       "    <tr>\n",
       "      <th>78311</th>\n",
       "      <td>i have had flawless credit for  yrs i ve had c...</td>\n",
       "      <td>I have have flawless credit for   yrs I ve hav...</td>\n",
       "      <td>credit yrs chase credit card chase freedom pro...</td>\n",
       "    </tr>\n",
       "    <tr>\n",
       "      <th>78312</th>\n",
       "      <td>roughly  years ago i closed out my accounts wi...</td>\n",
       "      <td>roughly   year ago I close out my account with...</td>\n",
       "      <td>year account order line credit account payment...</td>\n",
       "    </tr>\n",
       "  </tbody>\n",
       "</table>\n",
       "<p>21072 rows × 3 columns</p>\n",
       "</div>"
      ],
      "text/plain": [
       "                                complaints_what_happened   \n",
       "1      good morning my name is xxxx xxxx and i apprec...  \\\n",
       "2      i upgraded my xxxx xxxx card in xx xx  and was...   \n",
       "10     chase card was reported on xx xx  however frau...   \n",
       "11     on xx xx  while trying to book a xxxx xxxx tic...   \n",
       "14     my grand son give me check for i deposit it in...   \n",
       "...                                                  ...   \n",
       "78303  after being a chase card customer for well ove...   \n",
       "78309  on wednesday xx xx xxxx i called chas my xxxx ...   \n",
       "78310  i am not familiar with xxxx pay and did not un...   \n",
       "78311  i have had flawless credit for  yrs i ve had c...   \n",
       "78312  roughly  years ago i closed out my accounts wi...   \n",
       "\n",
       "                                   complaints_lemmatized   \n",
       "1      good morning my name be xxxx xxxx and I apprec...  \\\n",
       "2      I upgrade my xxxx xxxx card in xx xx   and be ...   \n",
       "10     chase card be report on xx xx   however fraudu...   \n",
       "11     on xx xx   while try to book a xxxx xxxx ticke...   \n",
       "14     my grand son give I check for I deposit it int...   \n",
       "...                                                  ...   \n",
       "78303  after be a chase card customer for well over a...   \n",
       "78309  on wednesday xx xx xxxx I call chas my xxxx xx...   \n",
       "78310  I be not familiar with xxxx pay and do not und...   \n",
       "78311  I have have flawless credit for   yrs I ve hav...   \n",
       "78312  roughly   year ago I close out my account with...   \n",
       "\n",
       "                                  complaints_POS_removed  \n",
       "1      morning name stop bank cardmember service ask ...  \n",
       "2      xxxx card agent anniversary date agent informa...  \n",
       "10     chase card report application identity consent...  \n",
       "11     xxxx xxxx ticket offer ticket reward card info...  \n",
       "14     son chase account fund chase bank account mone...  \n",
       "...                                                  ...  \n",
       "78303  chase card customer decade solicitation credit...  \n",
       "78309  xxxx xxxx credit card provider claim purchase ...  \n",
       "78310  xxxx risk consumer chase bank app chase year b...  \n",
       "78311  credit yrs chase credit card chase freedom pro...  \n",
       "78312  year account order line credit account payment...  \n",
       "\n",
       "[21072 rows x 3 columns]"
      ]
     },
     "execution_count": 26,
     "metadata": {},
     "output_type": "execute_result"
    }
   ],
   "source": [
    "# The clean dataframe should now contain the raw complaint, lemmatized complaint and the complaint after removing POS tags.\n",
    "df_clean"
   ]
  },
  {
   "cell_type": "code",
   "execution_count": 27,
   "metadata": {},
   "outputs": [
    {
     "data": {
      "text/plain": [
       "(21072, 3)"
      ]
     },
     "execution_count": 27,
     "metadata": {},
     "output_type": "execute_result"
    }
   ],
   "source": [
    "df_clean.shape"
   ]
  },
  {
   "cell_type": "markdown",
   "metadata": {
    "id": "_7Un1AElJrF2"
   },
   "source": [
    "## Exploratory data analysis to get familiar with the data.\n",
    "\n",
    "Write the code in this task to perform the following:\n",
    "\n",
    "*   Visualise the data according to the 'Complaint' character length\n",
    "*   Using a word cloud find the top 40 words by frequency among all the articles after processing the text\n",
    "*   Find the top unigrams,bigrams and trigrams by frequency among all the complaints after processing the text. ‘\n",
    "\n",
    "\n"
   ]
  },
  {
   "cell_type": "code",
   "execution_count": 28,
   "metadata": {
    "id": "q-zaqJF6JrF2"
   },
   "outputs": [
    {
     "data": {
      "text/plain": [
       "<Figure size 1000x600 with 0 Axes>"
      ]
     },
     "metadata": {},
     "output_type": "display_data"
    },
    {
     "data": {
      "image/png": "[encoded data removed]",
      "text/plain": [
       "<Figure size 500x500 with 1 Axes>"
      ]
     },
     "metadata": {},
     "output_type": "display_data"
    }
   ],
   "source": [
    "# Write your code here to visualise the data according to the 'Complaint' character length\n",
    "plt.figure(figsize=(10,6))\n",
    "char_len = [len(each_sent) for each_sent in df_clean['complaints_POS_removed']]\n",
    "sns.displot(char_len, kind='hist', bins=50)\n",
    "plt.xlabel(\"Complaint character length\")\n",
    "plt.ylabel(\"Total number of Complaints\")\n",
    "plt.title(\"Histogram distribution of Complaint character length\")\n",
    "plt.show()"
   ]
  },
  {
   "cell_type": "markdown",
   "metadata": {
    "id": "T9jD_6SeJrF3"
   },
   "source": [
    "#### Find the top 40 words by frequency among all the articles after processing the text."
   ]
  },
  {
   "cell_type": "code",
   "execution_count": 29,
   "metadata": {
    "id": "QcfdvtfZJrF3"
   },
   "outputs": [
    {
     "data": {
      "image/png": "[encoded data removed]",
      "text/plain": [
       "<Figure size 1800x1800 with 1 Axes>"
      ]
     },
     "metadata": {},
     "output_type": "display_data"
    }
   ],
   "source": [
    "# Using a word cloud find the top 40 words by frequency among all the articles after processing the text\n",
    "stopwords = set(STOPWORDS)\n",
    "wordcloud = WordCloud(max_font_size=30, max_words=40, \n",
    "                      background_color=\"white\", random_state=100, \n",
    "                      stopwords=stopwords).generate(str(df_clean['complaints_POS_removed']))\n",
    "plt.figure(figsize=[18,18])\n",
    "plt.imshow(wordcloud, interpolation=\"bilinear\")\n",
    "plt.axis(\"off\")\n",
    "plt.show()"
   ]
  },
  {
   "cell_type": "code",
   "execution_count": 30,
   "metadata": {
    "id": "OkSmc3UaJrF4"
   },
   "outputs": [],
   "source": [
    "#Removing -PRON- from the text corpus\n",
    "df_clean['Complaints_clean'] = df_clean['complaints_POS_removed'].str.replace('-PRON-', '')"
   ]
  },
  {
   "cell_type": "markdown",
   "metadata": {},
   "source": [
    "In summary, top words as observed from the word cloud are:\n",
    "- credit\n",
    "- account\n",
    "- information\n",
    "- ticket\n",
    "- chase\n",
    "- card\n",
    "- bank"
   ]
  },
  {
   "cell_type": "markdown",
   "metadata": {
    "id": "5DfCSbbmJrF4"
   },
   "source": [
    "#### Find the top unigrams,bigrams and trigrams by frequency among all the complaints after processing the text."
   ]
  },
  {
   "cell_type": "code",
   "execution_count": 31,
   "metadata": {
    "id": "5mbk5DS5JrF4"
   },
   "outputs": [],
   "source": [
    "# Write your code here to find the top 30 unigram frequency among the complaints in the cleaned datafram(df_clean). \n",
    "def get_top_ngrams(text, n=None, ngram=(1,1)):\n",
    "  vec = CountVectorizer(stop_words='english', ngram_range=ngram).fit(text)\n",
    "  bag_of_words = vec.transform(text)\n",
    "  sum_words = bag_of_words.sum(axis=0)\n",
    "  words_frequency = [(word, sum_words[0, index]) for word, index in vec.vocabulary_.items()]\n",
    "  words_frequency = sorted(words_frequency, key = lambda x: x[1], reverse=True)\n",
    "  return words_frequency[:n]"
   ]
  },
  {
   "cell_type": "code",
   "execution_count": 32,
   "metadata": {
    "id": "YX7fedm1JrF8"
   },
   "outputs": [
    {
     "data": {
      "text/html": [
       "<div>\n",
       "<style scoped>\n",
       "    .dataframe tbody tr th:only-of-type {\n",
       "        vertical-align: middle;\n",
       "    }\n",
       "\n",
       "    .dataframe tbody tr th {\n",
       "        vertical-align: top;\n",
       "    }\n",
       "\n",
       "    .dataframe thead th {\n",
       "        text-align: right;\n",
       "    }\n",
       "</style>\n",
       "<table border=\"1\" class=\"dataframe\">\n",
       "  <thead>\n",
       "    <tr style=\"text-align: right;\">\n",
       "      <th></th>\n",
       "      <th>unigram</th>\n",
       "      <th>count</th>\n",
       "    </tr>\n",
       "  </thead>\n",
       "  <tbody>\n",
       "    <tr>\n",
       "      <th>0</th>\n",
       "      <td>xxxx</td>\n",
       "      <td>59182</td>\n",
       "    </tr>\n",
       "    <tr>\n",
       "      <th>1</th>\n",
       "      <td>chase</td>\n",
       "      <td>53445</td>\n",
       "    </tr>\n",
       "    <tr>\n",
       "      <th>2</th>\n",
       "      <td>account</td>\n",
       "      <td>46835</td>\n",
       "    </tr>\n",
       "    <tr>\n",
       "      <th>3</th>\n",
       "      <td>credit</td>\n",
       "      <td>33630</td>\n",
       "    </tr>\n",
       "    <tr>\n",
       "      <th>4</th>\n",
       "      <td>card</td>\n",
       "      <td>30318</td>\n",
       "    </tr>\n",
       "    <tr>\n",
       "      <th>5</th>\n",
       "      <td>bank</td>\n",
       "      <td>21609</td>\n",
       "    </tr>\n",
       "    <tr>\n",
       "      <th>6</th>\n",
       "      <td>payment</td>\n",
       "      <td>21355</td>\n",
       "    </tr>\n",
       "    <tr>\n",
       "      <th>7</th>\n",
       "      <td>time</td>\n",
       "      <td>16293</td>\n",
       "    </tr>\n",
       "    <tr>\n",
       "      <th>8</th>\n",
       "      <td>charge</td>\n",
       "      <td>14239</td>\n",
       "    </tr>\n",
       "    <tr>\n",
       "      <th>9</th>\n",
       "      <td>day</td>\n",
       "      <td>13312</td>\n",
       "    </tr>\n",
       "    <tr>\n",
       "      <th>10</th>\n",
       "      <td>check</td>\n",
       "      <td>12177</td>\n",
       "    </tr>\n",
       "    <tr>\n",
       "      <th>11</th>\n",
       "      <td>money</td>\n",
       "      <td>11998</td>\n",
       "    </tr>\n",
       "    <tr>\n",
       "      <th>12</th>\n",
       "      <td>loan</td>\n",
       "      <td>10964</td>\n",
       "    </tr>\n",
       "    <tr>\n",
       "      <th>13</th>\n",
       "      <td>information</td>\n",
       "      <td>9679</td>\n",
       "    </tr>\n",
       "    <tr>\n",
       "      <th>14</th>\n",
       "      <td>letter</td>\n",
       "      <td>9629</td>\n",
       "    </tr>\n",
       "    <tr>\n",
       "      <th>15</th>\n",
       "      <td>fee</td>\n",
       "      <td>8941</td>\n",
       "    </tr>\n",
       "    <tr>\n",
       "      <th>16</th>\n",
       "      <td>report</td>\n",
       "      <td>8899</td>\n",
       "    </tr>\n",
       "    <tr>\n",
       "      <th>17</th>\n",
       "      <td>number</td>\n",
       "      <td>8658</td>\n",
       "    </tr>\n",
       "    <tr>\n",
       "      <th>18</th>\n",
       "      <td>month</td>\n",
       "      <td>8613</td>\n",
       "    </tr>\n",
       "    <tr>\n",
       "      <th>19</th>\n",
       "      <td>transaction</td>\n",
       "      <td>8564</td>\n",
       "    </tr>\n",
       "    <tr>\n",
       "      <th>20</th>\n",
       "      <td>year</td>\n",
       "      <td>8465</td>\n",
       "    </tr>\n",
       "    <tr>\n",
       "      <th>21</th>\n",
       "      <td>customer</td>\n",
       "      <td>8176</td>\n",
       "    </tr>\n",
       "    <tr>\n",
       "      <th>22</th>\n",
       "      <td>mortgage</td>\n",
       "      <td>8102</td>\n",
       "    </tr>\n",
       "    <tr>\n",
       "      <th>23</th>\n",
       "      <td>service</td>\n",
       "      <td>7753</td>\n",
       "    </tr>\n",
       "    <tr>\n",
       "      <th>24</th>\n",
       "      <td>balance</td>\n",
       "      <td>7728</td>\n",
       "    </tr>\n",
       "    <tr>\n",
       "      <th>25</th>\n",
       "      <td>phone</td>\n",
       "      <td>7591</td>\n",
       "    </tr>\n",
       "    <tr>\n",
       "      <th>26</th>\n",
       "      <td>company</td>\n",
       "      <td>7566</td>\n",
       "    </tr>\n",
       "    <tr>\n",
       "      <th>27</th>\n",
       "      <td>claim</td>\n",
       "      <td>7232</td>\n",
       "    </tr>\n",
       "    <tr>\n",
       "      <th>28</th>\n",
       "      <td>state</td>\n",
       "      <td>7138</td>\n",
       "    </tr>\n",
       "    <tr>\n",
       "      <th>29</th>\n",
       "      <td>fund</td>\n",
       "      <td>7069</td>\n",
       "    </tr>\n",
       "  </tbody>\n",
       "</table>\n",
       "</div>"
      ],
      "text/plain": [
       "        unigram  count\n",
       "0          xxxx  59182\n",
       "1         chase  53445\n",
       "2       account  46835\n",
       "3        credit  33630\n",
       "4          card  30318\n",
       "5          bank  21609\n",
       "6       payment  21355\n",
       "7          time  16293\n",
       "8        charge  14239\n",
       "9           day  13312\n",
       "10        check  12177\n",
       "11        money  11998\n",
       "12         loan  10964\n",
       "13  information   9679\n",
       "14       letter   9629\n",
       "15          fee   8941\n",
       "16       report   8899\n",
       "17       number   8658\n",
       "18        month   8613\n",
       "19  transaction   8564\n",
       "20         year   8465\n",
       "21     customer   8176\n",
       "22     mortgage   8102\n",
       "23      service   7753\n",
       "24      balance   7728\n",
       "25        phone   7591\n",
       "26      company   7566\n",
       "27        claim   7232\n",
       "28        state   7138\n",
       "29         fund   7069"
      ]
     },
     "execution_count": 32,
     "metadata": {},
     "output_type": "execute_result"
    }
   ],
   "source": [
    "# Print the top 10 words in the unigram frequency\n",
    "top_30words = get_top_ngrams(df_clean['Complaints_clean'].values.astype('U'), n=30, ngram=(1,1))\n",
    "df_unigram = pd.DataFrame(top_30words, columns=['unigram', 'count'])\n",
    "df_unigram"
   ]
  },
  {
   "cell_type": "code",
   "execution_count": 33,
   "metadata": {
    "id": "aV7kD7w8JrF8"
   },
   "outputs": [],
   "source": [
    "# Write your code here to find the top 30 bigram frequency among the complaints in the cleaned datafram(df_clean). \n"
   ]
  },
  {
   "cell_type": "code",
   "execution_count": 34,
   "metadata": {
    "id": "NPnMNIpyJrF9"
   },
   "outputs": [],
   "source": [
    "#Print the top 10 words in the bigram frequency"
   ]
  },
  {
   "cell_type": "code",
   "execution_count": 35,
   "metadata": {
    "id": "Xkh7vtbtJrF-"
   },
   "outputs": [],
   "source": [
    "#Write your code here to find the top 30 trigram frequency among the complaints in the cleaned datafram(df_clean). \n"
   ]
  },
  {
   "cell_type": "code",
   "execution_count": 36,
   "metadata": {
    "id": "REcVxNfvJrF-"
   },
   "outputs": [],
   "source": [
    "#Print the top 10 words in the trigram frequency"
   ]
  },
  {
   "cell_type": "markdown",
   "metadata": {
    "id": "yUXzFji0JrF_"
   },
   "source": [
    "## The personal details of customer has been masked in the dataset with xxxx. Let's remove the masked text as this will be of no use for our analysis"
   ]
  },
  {
   "cell_type": "code",
   "execution_count": 37,
   "metadata": {
    "id": "wKda-a_IJrF_"
   },
   "outputs": [],
   "source": [
    "df_clean['Complaints_clean'] = df_clean['Complaints_clean'].str.replace('xxxx','')"
   ]
  },
  {
   "cell_type": "code",
   "execution_count": 38,
   "metadata": {
    "id": "9UIFk8fQJrF_"
   },
   "outputs": [
    {
     "data": {
      "text/html": [
       "<div>\n",
       "<style scoped>\n",
       "    .dataframe tbody tr th:only-of-type {\n",
       "        vertical-align: middle;\n",
       "    }\n",
       "\n",
       "    .dataframe tbody tr th {\n",
       "        vertical-align: top;\n",
       "    }\n",
       "\n",
       "    .dataframe thead th {\n",
       "        text-align: right;\n",
       "    }\n",
       "</style>\n",
       "<table border=\"1\" class=\"dataframe\">\n",
       "  <thead>\n",
       "    <tr style=\"text-align: right;\">\n",
       "      <th></th>\n",
       "      <th>complaints_what_happened</th>\n",
       "      <th>complaints_lemmatized</th>\n",
       "      <th>complaints_POS_removed</th>\n",
       "      <th>Complaints_clean</th>\n",
       "    </tr>\n",
       "  </thead>\n",
       "  <tbody>\n",
       "    <tr>\n",
       "      <th>1</th>\n",
       "      <td>good morning my name is xxxx xxxx and i apprec...</td>\n",
       "      <td>good morning my name be xxxx xxxx and I apprec...</td>\n",
       "      <td>morning name stop bank cardmember service ask ...</td>\n",
       "      <td>morning name stop bank cardmember service ask ...</td>\n",
       "    </tr>\n",
       "    <tr>\n",
       "      <th>2</th>\n",
       "      <td>i upgraded my xxxx xxxx card in xx xx  and was...</td>\n",
       "      <td>I upgrade my xxxx xxxx card in xx xx   and be ...</td>\n",
       "      <td>xxxx card agent anniversary date agent informa...</td>\n",
       "      <td>card agent anniversary date agent information...</td>\n",
       "    </tr>\n",
       "    <tr>\n",
       "      <th>10</th>\n",
       "      <td>chase card was reported on xx xx  however frau...</td>\n",
       "      <td>chase card be report on xx xx   however fraudu...</td>\n",
       "      <td>chase card report application identity consent...</td>\n",
       "      <td>chase card report application identity consent...</td>\n",
       "    </tr>\n",
       "    <tr>\n",
       "      <th>11</th>\n",
       "      <td>on xx xx  while trying to book a xxxx xxxx tic...</td>\n",
       "      <td>on xx xx   while try to book a xxxx xxxx ticke...</td>\n",
       "      <td>xxxx xxxx ticket offer ticket reward card info...</td>\n",
       "      <td>ticket offer ticket reward card information ...</td>\n",
       "    </tr>\n",
       "    <tr>\n",
       "      <th>14</th>\n",
       "      <td>my grand son give me check for i deposit it in...</td>\n",
       "      <td>my grand son give I check for I deposit it int...</td>\n",
       "      <td>son chase account fund chase bank account mone...</td>\n",
       "      <td>son chase account fund chase bank account mone...</td>\n",
       "    </tr>\n",
       "    <tr>\n",
       "      <th>...</th>\n",
       "      <td>...</td>\n",
       "      <td>...</td>\n",
       "      <td>...</td>\n",
       "      <td>...</td>\n",
       "    </tr>\n",
       "    <tr>\n",
       "      <th>78303</th>\n",
       "      <td>after being a chase card customer for well ove...</td>\n",
       "      <td>after be a chase card customer for well over a...</td>\n",
       "      <td>chase card customer decade solicitation credit...</td>\n",
       "      <td>chase card customer decade solicitation credit...</td>\n",
       "    </tr>\n",
       "    <tr>\n",
       "      <th>78309</th>\n",
       "      <td>on wednesday xx xx xxxx i called chas my xxxx ...</td>\n",
       "      <td>on wednesday xx xx xxxx I call chas my xxxx xx...</td>\n",
       "      <td>xxxx xxxx credit card provider claim purchase ...</td>\n",
       "      <td>credit card provider claim purchase protecti...</td>\n",
       "    </tr>\n",
       "    <tr>\n",
       "      <th>78310</th>\n",
       "      <td>i am not familiar with xxxx pay and did not un...</td>\n",
       "      <td>I be not familiar with xxxx pay and do not und...</td>\n",
       "      <td>xxxx risk consumer chase bank app chase year b...</td>\n",
       "      <td>risk consumer chase bank app chase year banki...</td>\n",
       "    </tr>\n",
       "    <tr>\n",
       "      <th>78311</th>\n",
       "      <td>i have had flawless credit for  yrs i ve had c...</td>\n",
       "      <td>I have have flawless credit for   yrs I ve hav...</td>\n",
       "      <td>credit yrs chase credit card chase freedom pro...</td>\n",
       "      <td>credit yrs chase credit card chase freedom pro...</td>\n",
       "    </tr>\n",
       "    <tr>\n",
       "      <th>78312</th>\n",
       "      <td>roughly  years ago i closed out my accounts wi...</td>\n",
       "      <td>roughly   year ago I close out my account with...</td>\n",
       "      <td>year account order line credit account payment...</td>\n",
       "      <td>year account order line credit account payment...</td>\n",
       "    </tr>\n",
       "  </tbody>\n",
       "</table>\n",
       "<p>21072 rows × 4 columns</p>\n",
       "</div>"
      ],
      "text/plain": [
       "                                complaints_what_happened   \n",
       "1      good morning my name is xxxx xxxx and i apprec...  \\\n",
       "2      i upgraded my xxxx xxxx card in xx xx  and was...   \n",
       "10     chase card was reported on xx xx  however frau...   \n",
       "11     on xx xx  while trying to book a xxxx xxxx tic...   \n",
       "14     my grand son give me check for i deposit it in...   \n",
       "...                                                  ...   \n",
       "78303  after being a chase card customer for well ove...   \n",
       "78309  on wednesday xx xx xxxx i called chas my xxxx ...   \n",
       "78310  i am not familiar with xxxx pay and did not un...   \n",
       "78311  i have had flawless credit for  yrs i ve had c...   \n",
       "78312  roughly  years ago i closed out my accounts wi...   \n",
       "\n",
       "                                   complaints_lemmatized   \n",
       "1      good morning my name be xxxx xxxx and I apprec...  \\\n",
       "2      I upgrade my xxxx xxxx card in xx xx   and be ...   \n",
       "10     chase card be report on xx xx   however fraudu...   \n",
       "11     on xx xx   while try to book a xxxx xxxx ticke...   \n",
       "14     my grand son give I check for I deposit it int...   \n",
       "...                                                  ...   \n",
       "78303  after be a chase card customer for well over a...   \n",
       "78309  on wednesday xx xx xxxx I call chas my xxxx xx...   \n",
       "78310  I be not familiar with xxxx pay and do not und...   \n",
       "78311  I have have flawless credit for   yrs I ve hav...   \n",
       "78312  roughly   year ago I close out my account with...   \n",
       "\n",
       "                                  complaints_POS_removed   \n",
       "1      morning name stop bank cardmember service ask ...  \\\n",
       "2      xxxx card agent anniversary date agent informa...   \n",
       "10     chase card report application identity consent...   \n",
       "11     xxxx xxxx ticket offer ticket reward card info...   \n",
       "14     son chase account fund chase bank account mone...   \n",
       "...                                                  ...   \n",
       "78303  chase card customer decade solicitation credit...   \n",
       "78309  xxxx xxxx credit card provider claim purchase ...   \n",
       "78310  xxxx risk consumer chase bank app chase year b...   \n",
       "78311  credit yrs chase credit card chase freedom pro...   \n",
       "78312  year account order line credit account payment...   \n",
       "\n",
       "                                        Complaints_clean  \n",
       "1      morning name stop bank cardmember service ask ...  \n",
       "2       card agent anniversary date agent information...  \n",
       "10     chase card report application identity consent...  \n",
       "11       ticket offer ticket reward card information ...  \n",
       "14     son chase account fund chase bank account mone...  \n",
       "...                                                  ...  \n",
       "78303  chase card customer decade solicitation credit...  \n",
       "78309    credit card provider claim purchase protecti...  \n",
       "78310   risk consumer chase bank app chase year banki...  \n",
       "78311  credit yrs chase credit card chase freedom pro...  \n",
       "78312  year account order line credit account payment...  \n",
       "\n",
       "[21072 rows x 4 columns]"
      ]
     },
     "execution_count": 38,
     "metadata": {},
     "output_type": "execute_result"
    }
   ],
   "source": [
    "# All masked texts has been removed\n",
    "df_clean"
   ]
  },
  {
   "cell_type": "markdown",
   "metadata": {
    "id": "k-I0k0QtJrGA"
   },
   "source": [
    "## Feature Extraction\n",
    "Convert the raw texts to a matrix of TF-IDF features\n",
    "\n",
    "**max_df** is used for removing terms that appear too frequently, also known as \"corpus-specific stop words\"\n",
    "max_df = 0.95 means \"ignore terms that appear in more than 95% of the complaints\"\n",
    "\n",
    "**min_df** is used for removing terms that appear too infrequently\n",
    "min_df = 2 means \"ignore terms that appear in less than 2 complaints\""
   ]
  },
  {
   "cell_type": "code",
   "execution_count": 39,
   "metadata": {
    "id": "Y8fGwaCPJrGA"
   },
   "outputs": [],
   "source": [
    "# Write your code here to initialise the TfidfVectorizer \n",
    "tfidf = TfidfVectorizer(min_df=2, max_df=0.95, stop_words='english')"
   ]
  },
  {
   "cell_type": "markdown",
   "metadata": {
    "id": "yYzD85nTJrGA"
   },
   "source": [
    "#### Create a document term matrix using fit_transform\n",
    "\n",
    "The contents of a document term matrix are tuples of (complaint_id,token_id) tf-idf score:\n",
    "The tuples that are not there have a tf-idf score of 0"
   ]
  },
  {
   "cell_type": "code",
   "execution_count": 40,
   "metadata": {
    "id": "ffzdDpp_JrGB"
   },
   "outputs": [],
   "source": [
    "# Write your code here to create the Document Term Matrix by transforming the complaints column present in df_clean.\n",
    "dtm = tfidf.fit_transform(df_clean['Complaints_clean'])"
   ]
  },
  {
   "cell_type": "code",
   "execution_count": 41,
   "metadata": {},
   "outputs": [
    {
     "data": {
      "text/plain": [
       "<21072x6400 sparse matrix of type '<class 'numpy.float64'>'\n",
       "\twith 612135 stored elements in Compressed Sparse Row format>"
      ]
     },
     "execution_count": 41,
     "metadata": {},
     "output_type": "execute_result"
    }
   ],
   "source": [
    "dtm"
   ]
  },
  {
   "cell_type": "markdown",
   "metadata": {
    "id": "7Q9lwvNEJrGB"
   },
   "source": [
    "## Topic Modelling using NMF\n",
    "\n",
    "Non-Negative Matrix Factorization (NMF) is an unsupervised technique so there are no labeling of topics that the model will be trained on. The way it works is that, NMF decomposes (or factorizes) high-dimensional vectors into a lower-dimensional representation. These lower-dimensional vectors are non-negative which also means their coefficients are non-negative.\n",
    "\n",
    "In this task you have to perform the following:\n",
    "\n",
    "* Find the best number of clusters \n",
    "* Apply the best number to create word clusters\n",
    "* Inspect & validate the correction of each cluster wrt the complaints \n",
    "* Correct the labels if needed \n",
    "* Map the clusters to topics/cluster names"
   ]
  },
  {
   "cell_type": "code",
   "execution_count": 42,
   "metadata": {
    "id": "amLT4omWJrGB"
   },
   "outputs": [],
   "source": [
    "from sklearn.decomposition import NMF"
   ]
  },
  {
   "cell_type": "markdown",
   "metadata": {
    "id": "0wYR1xUTJrGD"
   },
   "source": [
    "## Manual Topic Modeling\n",
    "You need to do take the trial & error approach to find the best num of topics for your NMF model.\n",
    "\n",
    "The only parameter that is required is the number of components i.e. the number of topics we want. This is the most crucial step in the whole topic modeling process and will greatly affect how good your final topics are."
   ]
  },
  {
   "cell_type": "code",
   "execution_count": 43,
   "metadata": {
    "id": "sgd2A6bhJrGD"
   },
   "outputs": [],
   "source": [
    "# Load your nmf_model with the n_components i.e 5\n",
    "num_topics = 5\n",
    "\n",
    "# Keep the random_state = 40\n",
    "nmf_model = NMF(n_components=num_topics, random_state=40)"
   ]
  },
  {
   "cell_type": "code",
   "execution_count": 44,
   "metadata": {
    "id": "VPMDYbt_JrGE"
   },
   "outputs": [
    {
     "data": {
      "text/plain": [
       "6400"
      ]
     },
     "execution_count": 44,
     "metadata": {},
     "output_type": "execute_result"
    }
   ],
   "source": [
    "nmf_model.fit(dtm)\n",
    "len(tfidf.get_feature_names_out())"
   ]
  },
  {
   "cell_type": "code",
   "execution_count": 45,
   "metadata": {
    "id": "16kRfat5JrGE"
   },
   "outputs": [],
   "source": [
    "# Topic-term matrix\n",
    "H = nmf_model.components_      "
   ]
  },
  {
   "cell_type": "code",
   "execution_count": 46,
   "metadata": {},
   "outputs": [
    {
     "name": "stdout",
     "output_type": "stream",
     "text": [
      "          Word 1   Word 2       Word 3   Word 4       Word 5     Word 6   \n",
      "Topic 1  account    check         bank    money         fund      chase  \\\n",
      "Topic 2     card   credit        chase  balance      account      limit   \n",
      "Topic 3  payment     loan     mortgage    chase         home      month   \n",
      "Topic 4   report  inquiry       credit  company  information  reporting   \n",
      "Topic 5   charge  dispute  transaction    chase          fee   merchant   \n",
      "\n",
      "               Word 7    Word 8    Word 9   Word 10   Word 11   Word 12   \n",
      "Topic 1       deposit    branch       day  checking    number  business  \\\n",
      "Topic 2         score      year     point     month  purchase     offer   \n",
      "Topic 3  modification      time      year      rate  property   balance   \n",
      "Topic 4          debt  identity   account     theft     score    letter   \n",
      "Topic 5         claim     fraud  purchase   service     email    refund   \n",
      "\n",
      "           Word 13      Word 14   Word 15  \n",
      "Topic 1   transfer  transaction  customer  \n",
      "Topic 2       time  application   service  \n",
      "Topic 3  statement         date       day  \n",
      "Topic 4       date         file  creditor  \n",
      "Topic 5       time          day   company  \n"
     ]
    }
   ],
   "source": [
    "#Print the Top15 words for each of the topics\n",
    "words = np.array(tfidf.get_feature_names_out())\n",
    "topic_words = pd.DataFrame(np.zeros((num_topics, 15)), index=[f'Topic {i + 1}' for i in range(num_topics)],\n",
    "                           columns=[f'Word {i + 1}' for i in range(15)]).astype(str)\n",
    "for i in range(num_topics):\n",
    "    ix = H[i].argsort()[::-1][:15]\n",
    "    topic_words.iloc[i] = words[ix]\n",
    "\n",
    "print(topic_words)"
   ]
  },
  {
   "cell_type": "markdown",
   "metadata": {},
   "source": [
    "Summary and Analysis:\n",
    "\n",
    "Based on the topics listed above, we could give a label based on their products/services for each topic-\n",
    "\n",
    "- Topic 1 = Bank Account services\n",
    "- Topic 2 = Credit card or prepaid card\n",
    "- Topic 3 = Mortgage/Loan\n",
    "- Topic 4 = Theft/Dispute Reporting\n",
    "- Topic 5 = Others"
   ]
  },
  {
   "cell_type": "code",
   "execution_count": 47,
   "metadata": {
    "id": "0OIT7LmFJrGF"
   },
   "outputs": [],
   "source": [
    "# Create the best topic for each complaint in terms of integer value 0,1,2,3 & 4\n",
    "topic_results = nmf_model.transform(dtm)"
   ]
  },
  {
   "cell_type": "code",
   "execution_count": 48,
   "metadata": {
    "id": "peyYv-ORJrGF"
   },
   "outputs": [],
   "source": [
    "# Assign the best topic to each of the cmplaints in Topic Column\n",
    "df_clean['Topic'] = topic_results.argmax(axis=1)"
   ]
  },
  {
   "cell_type": "code",
   "execution_count": 49,
   "metadata": {
    "id": "fLh_Gf3nJrGF"
   },
   "outputs": [
    {
     "data": {
      "text/html": [
       "<div>\n",
       "<style scoped>\n",
       "    .dataframe tbody tr th:only-of-type {\n",
       "        vertical-align: middle;\n",
       "    }\n",
       "\n",
       "    .dataframe tbody tr th {\n",
       "        vertical-align: top;\n",
       "    }\n",
       "\n",
       "    .dataframe thead th {\n",
       "        text-align: right;\n",
       "    }\n",
       "</style>\n",
       "<table border=\"1\" class=\"dataframe\">\n",
       "  <thead>\n",
       "    <tr style=\"text-align: right;\">\n",
       "      <th></th>\n",
       "      <th>complaints_what_happened</th>\n",
       "      <th>complaints_lemmatized</th>\n",
       "      <th>complaints_POS_removed</th>\n",
       "      <th>Complaints_clean</th>\n",
       "      <th>Topic</th>\n",
       "    </tr>\n",
       "  </thead>\n",
       "  <tbody>\n",
       "    <tr>\n",
       "      <th>1</th>\n",
       "      <td>good morning my name is xxxx xxxx and i apprec...</td>\n",
       "      <td>good morning my name be xxxx xxxx and I apprec...</td>\n",
       "      <td>morning name stop bank cardmember service ask ...</td>\n",
       "      <td>morning name stop bank cardmember service ask ...</td>\n",
       "      <td>0</td>\n",
       "    </tr>\n",
       "    <tr>\n",
       "      <th>2</th>\n",
       "      <td>i upgraded my xxxx xxxx card in xx xx  and was...</td>\n",
       "      <td>I upgrade my xxxx xxxx card in xx xx   and be ...</td>\n",
       "      <td>xxxx card agent anniversary date agent informa...</td>\n",
       "      <td>card agent anniversary date agent information...</td>\n",
       "      <td>1</td>\n",
       "    </tr>\n",
       "    <tr>\n",
       "      <th>10</th>\n",
       "      <td>chase card was reported on xx xx  however frau...</td>\n",
       "      <td>chase card be report on xx xx   however fraudu...</td>\n",
       "      <td>chase card report application identity consent...</td>\n",
       "      <td>chase card report application identity consent...</td>\n",
       "      <td>3</td>\n",
       "    </tr>\n",
       "    <tr>\n",
       "      <th>11</th>\n",
       "      <td>on xx xx  while trying to book a xxxx xxxx tic...</td>\n",
       "      <td>on xx xx   while try to book a xxxx xxxx ticke...</td>\n",
       "      <td>xxxx xxxx ticket offer ticket reward card info...</td>\n",
       "      <td>ticket offer ticket reward card information ...</td>\n",
       "      <td>3</td>\n",
       "    </tr>\n",
       "    <tr>\n",
       "      <th>14</th>\n",
       "      <td>my grand son give me check for i deposit it in...</td>\n",
       "      <td>my grand son give I check for I deposit it int...</td>\n",
       "      <td>son chase account fund chase bank account mone...</td>\n",
       "      <td>son chase account fund chase bank account mone...</td>\n",
       "      <td>0</td>\n",
       "    </tr>\n",
       "  </tbody>\n",
       "</table>\n",
       "</div>"
      ],
      "text/plain": [
       "                             complaints_what_happened   \n",
       "1   good morning my name is xxxx xxxx and i apprec...  \\\n",
       "2   i upgraded my xxxx xxxx card in xx xx  and was...   \n",
       "10  chase card was reported on xx xx  however frau...   \n",
       "11  on xx xx  while trying to book a xxxx xxxx tic...   \n",
       "14  my grand son give me check for i deposit it in...   \n",
       "\n",
       "                                complaints_lemmatized   \n",
       "1   good morning my name be xxxx xxxx and I apprec...  \\\n",
       "2   I upgrade my xxxx xxxx card in xx xx   and be ...   \n",
       "10  chase card be report on xx xx   however fraudu...   \n",
       "11  on xx xx   while try to book a xxxx xxxx ticke...   \n",
       "14  my grand son give I check for I deposit it int...   \n",
       "\n",
       "                               complaints_POS_removed   \n",
       "1   morning name stop bank cardmember service ask ...  \\\n",
       "2   xxxx card agent anniversary date agent informa...   \n",
       "10  chase card report application identity consent...   \n",
       "11  xxxx xxxx ticket offer ticket reward card info...   \n",
       "14  son chase account fund chase bank account mone...   \n",
       "\n",
       "                                     Complaints_clean  Topic  \n",
       "1   morning name stop bank cardmember service ask ...      0  \n",
       "2    card agent anniversary date agent information...      1  \n",
       "10  chase card report application identity consent...      3  \n",
       "11    ticket offer ticket reward card information ...      3  \n",
       "14  son chase account fund chase bank account mone...      0  "
      ]
     },
     "execution_count": 49,
     "metadata": {},
     "output_type": "execute_result"
    }
   ],
   "source": [
    "df_clean.head()"
   ]
  },
  {
   "cell_type": "code",
   "execution_count": 50,
   "metadata": {
    "id": "aQKpufSPJrGG"
   },
   "outputs": [
    {
     "data": {
      "text/html": [
       "<div>\n",
       "<style scoped>\n",
       "    .dataframe tbody tr th:only-of-type {\n",
       "        vertical-align: middle;\n",
       "    }\n",
       "\n",
       "    .dataframe tbody tr th {\n",
       "        vertical-align: top;\n",
       "    }\n",
       "\n",
       "    .dataframe thead th {\n",
       "        text-align: right;\n",
       "    }\n",
       "</style>\n",
       "<table border=\"1\" class=\"dataframe\">\n",
       "  <thead>\n",
       "    <tr style=\"text-align: right;\">\n",
       "      <th></th>\n",
       "      <th>complaints_what_happened</th>\n",
       "      <th>complaints_lemmatized</th>\n",
       "      <th>complaints_POS_removed</th>\n",
       "      <th>Complaints_clean</th>\n",
       "      <th>Topic</th>\n",
       "    </tr>\n",
       "  </thead>\n",
       "  <tbody>\n",
       "    <tr>\n",
       "      <th>1</th>\n",
       "      <td>good morning my name is xxxx xxxx and i apprec...</td>\n",
       "      <td>good morning my name be xxxx xxxx and I apprec...</td>\n",
       "      <td>morning name stop bank cardmember service ask ...</td>\n",
       "      <td>morning name stop bank cardmember service ask ...</td>\n",
       "      <td>0</td>\n",
       "    </tr>\n",
       "    <tr>\n",
       "      <th>24</th>\n",
       "      <td>mishandling of this account by chase auto and ...</td>\n",
       "      <td>mishandle of this account by chase auto and xxxx</td>\n",
       "      <td>mishandle account chase auto xxxx</td>\n",
       "      <td>mishandle account chase auto</td>\n",
       "      <td>0</td>\n",
       "    </tr>\n",
       "    <tr>\n",
       "      <th>17</th>\n",
       "      <td>with out notice j p morgan chase restricted my...</td>\n",
       "      <td>with out notice j p morgan chase restrict my a...</td>\n",
       "      <td>notice account debit card branch customer serv...</td>\n",
       "      <td>notice account debit card branch customer serv...</td>\n",
       "      <td>0</td>\n",
       "    </tr>\n",
       "    <tr>\n",
       "      <th>14</th>\n",
       "      <td>my grand son give me check for i deposit it in...</td>\n",
       "      <td>my grand son give I check for I deposit it int...</td>\n",
       "      <td>son chase account fund chase bank account mone...</td>\n",
       "      <td>son chase account fund chase bank account mone...</td>\n",
       "      <td>0</td>\n",
       "    </tr>\n",
       "    <tr>\n",
       "      <th>27</th>\n",
       "      <td>i opened an account with chase bank on xxxx an...</td>\n",
       "      <td>I open an account with chase bank on xxxx and ...</td>\n",
       "      <td>account bank code bonus term everything accoun...</td>\n",
       "      <td>account bank code bonus term everything accoun...</td>\n",
       "      <td>0</td>\n",
       "    </tr>\n",
       "    <tr>\n",
       "      <th>32</th>\n",
       "      <td>my chase amazon card was declined for a cateri...</td>\n",
       "      <td>my chase amazon card be decline for a catering...</td>\n",
       "      <td>chase card decline catering order place brothe...</td>\n",
       "      <td>chase card decline catering order place brothe...</td>\n",
       "      <td>1</td>\n",
       "    </tr>\n",
       "    <tr>\n",
       "      <th>59</th>\n",
       "      <td>i currently have over xxxx chase ultimate rewa...</td>\n",
       "      <td>I currently have over xxxx chase ultimate rewa...</td>\n",
       "      <td>chase reward point month reward account bonus ...</td>\n",
       "      <td>chase reward point month reward account bonus ...</td>\n",
       "      <td>1</td>\n",
       "    </tr>\n",
       "    <tr>\n",
       "      <th>52</th>\n",
       "      <td>my roommate was stealing my chase debit card a...</td>\n",
       "      <td>my roommate be steal my chase debit card and d...</td>\n",
       "      <td>roommate chase debit card driver license money...</td>\n",
       "      <td>roommate chase debit card driver license money...</td>\n",
       "      <td>1</td>\n",
       "    </tr>\n",
       "    <tr>\n",
       "      <th>2</th>\n",
       "      <td>i upgraded my xxxx xxxx card in xx xx  and was...</td>\n",
       "      <td>I upgrade my xxxx xxxx card in xx xx   and be ...</td>\n",
       "      <td>xxxx card agent anniversary date agent informa...</td>\n",
       "      <td>card agent anniversary date agent information...</td>\n",
       "      <td>1</td>\n",
       "    </tr>\n",
       "    <tr>\n",
       "      <th>50</th>\n",
       "      <td>i am a senior citizen that has been scammed by...</td>\n",
       "      <td>I be a senior citizen that have be scamme by s...</td>\n",
       "      <td>citizen company time share company nothing ref...</td>\n",
       "      <td>citizen company time share company nothing ref...</td>\n",
       "      <td>1</td>\n",
       "    </tr>\n",
       "    <tr>\n",
       "      <th>58</th>\n",
       "      <td>i made a purchase of on xx xx xxxx i made paym...</td>\n",
       "      <td>I make a purchase of on xx xx xxxx I make paym...</td>\n",
       "      <td>purchase xxxx payment xxxx payment closing dat...</td>\n",
       "      <td>purchase  payment  payment closing date statem...</td>\n",
       "      <td>2</td>\n",
       "    </tr>\n",
       "    <tr>\n",
       "      <th>57</th>\n",
       "      <td>i have been trying to do a loan modification w...</td>\n",
       "      <td>I have be try to do a loan modification with c...</td>\n",
       "      <td>loan modification chase payment doc</td>\n",
       "      <td>loan modification chase payment doc</td>\n",
       "      <td>2</td>\n",
       "    </tr>\n",
       "    <tr>\n",
       "      <th>81</th>\n",
       "      <td>i bought a new xxxx xxxx on xx xx xxxx from xx...</td>\n",
       "      <td>I buy a new xxxx xxxx on xx xx xxxx from xxxx ...</td>\n",
       "      <td>xxxx xxxx loan title chase time resolution tim...</td>\n",
       "      <td>loan title chase time resolution time nothin...</td>\n",
       "      <td>2</td>\n",
       "    </tr>\n",
       "    <tr>\n",
       "      <th>20</th>\n",
       "      <td>during the summer months i experience a declin...</td>\n",
       "      <td>during the summer month I experience a decline...</td>\n",
       "      <td>summer month decline income employment month p...</td>\n",
       "      <td>summer month decline income employment month p...</td>\n",
       "      <td>2</td>\n",
       "    </tr>\n",
       "    <tr>\n",
       "      <th>73</th>\n",
       "      <td>i have wired through one of chase branches in ...</td>\n",
       "      <td>I have wire through one of chase branch in xxx...</td>\n",
       "      <td>wire chase branch reinstatement amount order f...</td>\n",
       "      <td>wire chase branch reinstatement amount order f...</td>\n",
       "      <td>2</td>\n",
       "    </tr>\n",
       "    <tr>\n",
       "      <th>11</th>\n",
       "      <td>on xx xx  while trying to book a xxxx xxxx tic...</td>\n",
       "      <td>on xx xx   while try to book a xxxx xxxx ticke...</td>\n",
       "      <td>xxxx xxxx ticket offer ticket reward card info...</td>\n",
       "      <td>ticket offer ticket reward card information ...</td>\n",
       "      <td>3</td>\n",
       "    </tr>\n",
       "    <tr>\n",
       "      <th>26</th>\n",
       "      <td>i have reached out to xxxx several times in at...</td>\n",
       "      <td>I have reach out to xxxx several time in attem...</td>\n",
       "      <td>time attempt inquiry remove creditor inquiry r...</td>\n",
       "      <td>time attempt inquiry remove creditor inquiry r...</td>\n",
       "      <td>3</td>\n",
       "    </tr>\n",
       "    <tr>\n",
       "      <th>23</th>\n",
       "      <td>i have a chase credit card which is incorrectl...</td>\n",
       "      <td>I have a chase credit card which be incorrectl...</td>\n",
       "      <td>credit card datum credit report company issue</td>\n",
       "      <td>credit card datum credit report company issue</td>\n",
       "      <td>3</td>\n",
       "    </tr>\n",
       "    <tr>\n",
       "      <th>10</th>\n",
       "      <td>chase card was reported on xx xx  however frau...</td>\n",
       "      <td>chase card be report on xx xx   however fraudu...</td>\n",
       "      <td>chase card report application identity consent...</td>\n",
       "      <td>chase card report application identity consent...</td>\n",
       "      <td>3</td>\n",
       "    </tr>\n",
       "    <tr>\n",
       "      <th>15</th>\n",
       "      <td>can you please remove inquiry</td>\n",
       "      <td>can you please remove inquiry</td>\n",
       "      <td>inquiry</td>\n",
       "      <td>inquiry</td>\n",
       "      <td>3</td>\n",
       "    </tr>\n",
       "    <tr>\n",
       "      <th>30</th>\n",
       "      <td>to whom it may concern chase bank charged wron...</td>\n",
       "      <td>to whom it may concern chase bank charge wrong...</td>\n",
       "      <td>bank overdraft fee alert balance fee balance t...</td>\n",
       "      <td>bank overdraft fee alert balance fee balance t...</td>\n",
       "      <td>4</td>\n",
       "    </tr>\n",
       "    <tr>\n",
       "      <th>40</th>\n",
       "      <td>xxxx xxxx a sofa love seat table and chairs an...</td>\n",
       "      <td>xxxx xxxx a sofa love seat table and chair and...</td>\n",
       "      <td>sofa love seat table chair debit card charge b...</td>\n",
       "      <td>sofa love seat table chair debit card charge b...</td>\n",
       "      <td>4</td>\n",
       "    </tr>\n",
       "    <tr>\n",
       "      <th>45</th>\n",
       "      <td>i made a purchase with xxxx xxxx xxxx on xx xx...</td>\n",
       "      <td>I make a purchase with xxxx xxxx xxxx on xx xx...</td>\n",
       "      <td>purchase amount charge transaction dispute cas...</td>\n",
       "      <td>purchase amount charge transaction dispute cas...</td>\n",
       "      <td>4</td>\n",
       "    </tr>\n",
       "    <tr>\n",
       "      <th>48</th>\n",
       "      <td>jp morgan chase bank please answer the followi...</td>\n",
       "      <td>jp morgan chase bank please answer the follow ...</td>\n",
       "      <td>follow question xxxx xxxx xxxx xxxx access inf...</td>\n",
       "      <td>follow question     access information  reason...</td>\n",
       "      <td>4</td>\n",
       "    </tr>\n",
       "    <tr>\n",
       "      <th>21</th>\n",
       "      <td>on xxxx xx xx  i made a payment to an online r...</td>\n",
       "      <td>on xxxx xx xx   I make a payment to an online ...</td>\n",
       "      <td>payment retailer chase pay xxxx chase website ...</td>\n",
       "      <td>payment retailer chase pay  chase website scam...</td>\n",
       "      <td>4</td>\n",
       "    </tr>\n",
       "  </tbody>\n",
       "</table>\n",
       "</div>"
      ],
      "text/plain": [
       "                             complaints_what_happened   \n",
       "1   good morning my name is xxxx xxxx and i apprec...  \\\n",
       "24  mishandling of this account by chase auto and ...   \n",
       "17  with out notice j p morgan chase restricted my...   \n",
       "14  my grand son give me check for i deposit it in...   \n",
       "27  i opened an account with chase bank on xxxx an...   \n",
       "32  my chase amazon card was declined for a cateri...   \n",
       "59  i currently have over xxxx chase ultimate rewa...   \n",
       "52  my roommate was stealing my chase debit card a...   \n",
       "2   i upgraded my xxxx xxxx card in xx xx  and was...   \n",
       "50  i am a senior citizen that has been scammed by...   \n",
       "58  i made a purchase of on xx xx xxxx i made paym...   \n",
       "57  i have been trying to do a loan modification w...   \n",
       "81  i bought a new xxxx xxxx on xx xx xxxx from xx...   \n",
       "20  during the summer months i experience a declin...   \n",
       "73  i have wired through one of chase branches in ...   \n",
       "11  on xx xx  while trying to book a xxxx xxxx tic...   \n",
       "26  i have reached out to xxxx several times in at...   \n",
       "23  i have a chase credit card which is incorrectl...   \n",
       "10  chase card was reported on xx xx  however frau...   \n",
       "15                      can you please remove inquiry   \n",
       "30  to whom it may concern chase bank charged wron...   \n",
       "40  xxxx xxxx a sofa love seat table and chairs an...   \n",
       "45  i made a purchase with xxxx xxxx xxxx on xx xx...   \n",
       "48  jp morgan chase bank please answer the followi...   \n",
       "21  on xxxx xx xx  i made a payment to an online r...   \n",
       "\n",
       "                                complaints_lemmatized   \n",
       "1   good morning my name be xxxx xxxx and I apprec...  \\\n",
       "24   mishandle of this account by chase auto and xxxx   \n",
       "17  with out notice j p morgan chase restrict my a...   \n",
       "14  my grand son give I check for I deposit it int...   \n",
       "27  I open an account with chase bank on xxxx and ...   \n",
       "32  my chase amazon card be decline for a catering...   \n",
       "59  I currently have over xxxx chase ultimate rewa...   \n",
       "52  my roommate be steal my chase debit card and d...   \n",
       "2   I upgrade my xxxx xxxx card in xx xx   and be ...   \n",
       "50  I be a senior citizen that have be scamme by s...   \n",
       "58  I make a purchase of on xx xx xxxx I make paym...   \n",
       "57  I have be try to do a loan modification with c...   \n",
       "81  I buy a new xxxx xxxx on xx xx xxxx from xxxx ...   \n",
       "20  during the summer month I experience a decline...   \n",
       "73  I have wire through one of chase branch in xxx...   \n",
       "11  on xx xx   while try to book a xxxx xxxx ticke...   \n",
       "26  I have reach out to xxxx several time in attem...   \n",
       "23  I have a chase credit card which be incorrectl...   \n",
       "10  chase card be report on xx xx   however fraudu...   \n",
       "15                      can you please remove inquiry   \n",
       "30  to whom it may concern chase bank charge wrong...   \n",
       "40  xxxx xxxx a sofa love seat table and chair and...   \n",
       "45  I make a purchase with xxxx xxxx xxxx on xx xx...   \n",
       "48  jp morgan chase bank please answer the follow ...   \n",
       "21  on xxxx xx xx   I make a payment to an online ...   \n",
       "\n",
       "                               complaints_POS_removed   \n",
       "1   morning name stop bank cardmember service ask ...  \\\n",
       "24                  mishandle account chase auto xxxx   \n",
       "17  notice account debit card branch customer serv...   \n",
       "14  son chase account fund chase bank account mone...   \n",
       "27  account bank code bonus term everything accoun...   \n",
       "32  chase card decline catering order place brothe...   \n",
       "59  chase reward point month reward account bonus ...   \n",
       "52  roommate chase debit card driver license money...   \n",
       "2   xxxx card agent anniversary date agent informa...   \n",
       "50  citizen company time share company nothing ref...   \n",
       "58  purchase xxxx payment xxxx payment closing dat...   \n",
       "57                loan modification chase payment doc   \n",
       "81  xxxx xxxx loan title chase time resolution tim...   \n",
       "20  summer month decline income employment month p...   \n",
       "73  wire chase branch reinstatement amount order f...   \n",
       "11  xxxx xxxx ticket offer ticket reward card info...   \n",
       "26  time attempt inquiry remove creditor inquiry r...   \n",
       "23      credit card datum credit report company issue   \n",
       "10  chase card report application identity consent...   \n",
       "15                                            inquiry   \n",
       "30  bank overdraft fee alert balance fee balance t...   \n",
       "40  sofa love seat table chair debit card charge b...   \n",
       "45  purchase amount charge transaction dispute cas...   \n",
       "48  follow question xxxx xxxx xxxx xxxx access inf...   \n",
       "21  payment retailer chase pay xxxx chase website ...   \n",
       "\n",
       "                                     Complaints_clean  Topic  \n",
       "1   morning name stop bank cardmember service ask ...      0  \n",
       "24                      mishandle account chase auto       0  \n",
       "17  notice account debit card branch customer serv...      0  \n",
       "14  son chase account fund chase bank account mone...      0  \n",
       "27  account bank code bonus term everything accoun...      0  \n",
       "32  chase card decline catering order place brothe...      1  \n",
       "59  chase reward point month reward account bonus ...      1  \n",
       "52  roommate chase debit card driver license money...      1  \n",
       "2    card agent anniversary date agent information...      1  \n",
       "50  citizen company time share company nothing ref...      1  \n",
       "58  purchase  payment  payment closing date statem...      2  \n",
       "57                loan modification chase payment doc      2  \n",
       "81    loan title chase time resolution time nothin...      2  \n",
       "20  summer month decline income employment month p...      2  \n",
       "73  wire chase branch reinstatement amount order f...      2  \n",
       "11    ticket offer ticket reward card information ...      3  \n",
       "26  time attempt inquiry remove creditor inquiry r...      3  \n",
       "23      credit card datum credit report company issue      3  \n",
       "10  chase card report application identity consent...      3  \n",
       "15                                            inquiry      3  \n",
       "30  bank overdraft fee alert balance fee balance t...      4  \n",
       "40  sofa love seat table chair debit card charge b...      4  \n",
       "45  purchase amount charge transaction dispute cas...      4  \n",
       "48  follow question     access information  reason...      4  \n",
       "21  payment retailer chase pay  chase website scam...      4  "
      ]
     },
     "execution_count": 50,
     "metadata": {},
     "output_type": "execute_result"
    }
   ],
   "source": [
    "# Print the first 5 Complaint for each of the Topics\n",
    "df_clean_first5 = df_clean.groupby('Topic').head(5)\n",
    "df_clean_first5.sort_values('Topic')"
   ]
  },
  {
   "cell_type": "markdown",
   "metadata": {
    "id": "piyLxzj6v07j"
   },
   "source": [
    "#### After evaluating the mapping, if the topics assigned are correct then assign these names to the relevant topic:\n",
    "* Bank Account services\n",
    "* Credit card or prepaid card\n",
    "* Theft/Dispute Reporting\n",
    "* Mortgage/Loan\n",
    "* Others"
   ]
  },
  {
   "cell_type": "code",
   "execution_count": 51,
   "metadata": {
    "id": "TWpwDG4RJrGG"
   },
   "outputs": [],
   "source": [
    "#Create the dictionary of Topic names and Topics\n",
    "Topic_names = { 0:\"Bank account services\", 1:\"Credit card / Prepaid card\",\n",
    "                2:\"Mortgages/loans\", 3:\"Theft/Dispute reporting\",\n",
    "                4:\"Others\"}\n",
    "#Replace Topics with Topic Names\n",
    "df_clean['Topic'] = df_clean['Topic'].map(Topic_names)"
   ]
  },
  {
   "cell_type": "code",
   "execution_count": 52,
   "metadata": {
    "id": "-2ULY5K6JrGG"
   },
   "outputs": [
    {
     "data": {
      "text/html": [
       "<div>\n",
       "<style scoped>\n",
       "    .dataframe tbody tr th:only-of-type {\n",
       "        vertical-align: middle;\n",
       "    }\n",
       "\n",
       "    .dataframe tbody tr th {\n",
       "        vertical-align: top;\n",
       "    }\n",
       "\n",
       "    .dataframe thead th {\n",
       "        text-align: right;\n",
       "    }\n",
       "</style>\n",
       "<table border=\"1\" class=\"dataframe\">\n",
       "  <thead>\n",
       "    <tr style=\"text-align: right;\">\n",
       "      <th></th>\n",
       "      <th>complaints_what_happened</th>\n",
       "      <th>complaints_lemmatized</th>\n",
       "      <th>complaints_POS_removed</th>\n",
       "      <th>Complaints_clean</th>\n",
       "      <th>Topic</th>\n",
       "    </tr>\n",
       "  </thead>\n",
       "  <tbody>\n",
       "    <tr>\n",
       "      <th>1</th>\n",
       "      <td>good morning my name is xxxx xxxx and i apprec...</td>\n",
       "      <td>good morning my name be xxxx xxxx and I apprec...</td>\n",
       "      <td>morning name stop bank cardmember service ask ...</td>\n",
       "      <td>morning name stop bank cardmember service ask ...</td>\n",
       "      <td>Bank account services</td>\n",
       "    </tr>\n",
       "    <tr>\n",
       "      <th>2</th>\n",
       "      <td>i upgraded my xxxx xxxx card in xx xx  and was...</td>\n",
       "      <td>I upgrade my xxxx xxxx card in xx xx   and be ...</td>\n",
       "      <td>xxxx card agent anniversary date agent informa...</td>\n",
       "      <td>card agent anniversary date agent information...</td>\n",
       "      <td>Credit card / Prepaid card</td>\n",
       "    </tr>\n",
       "    <tr>\n",
       "      <th>10</th>\n",
       "      <td>chase card was reported on xx xx  however frau...</td>\n",
       "      <td>chase card be report on xx xx   however fraudu...</td>\n",
       "      <td>chase card report application identity consent...</td>\n",
       "      <td>chase card report application identity consent...</td>\n",
       "      <td>Theft/Dispute reporting</td>\n",
       "    </tr>\n",
       "    <tr>\n",
       "      <th>11</th>\n",
       "      <td>on xx xx  while trying to book a xxxx xxxx tic...</td>\n",
       "      <td>on xx xx   while try to book a xxxx xxxx ticke...</td>\n",
       "      <td>xxxx xxxx ticket offer ticket reward card info...</td>\n",
       "      <td>ticket offer ticket reward card information ...</td>\n",
       "      <td>Theft/Dispute reporting</td>\n",
       "    </tr>\n",
       "    <tr>\n",
       "      <th>14</th>\n",
       "      <td>my grand son give me check for i deposit it in...</td>\n",
       "      <td>my grand son give I check for I deposit it int...</td>\n",
       "      <td>son chase account fund chase bank account mone...</td>\n",
       "      <td>son chase account fund chase bank account mone...</td>\n",
       "      <td>Bank account services</td>\n",
       "    </tr>\n",
       "    <tr>\n",
       "      <th>...</th>\n",
       "      <td>...</td>\n",
       "      <td>...</td>\n",
       "      <td>...</td>\n",
       "      <td>...</td>\n",
       "      <td>...</td>\n",
       "    </tr>\n",
       "    <tr>\n",
       "      <th>78303</th>\n",
       "      <td>after being a chase card customer for well ove...</td>\n",
       "      <td>after be a chase card customer for well over a...</td>\n",
       "      <td>chase card customer decade solicitation credit...</td>\n",
       "      <td>chase card customer decade solicitation credit...</td>\n",
       "      <td>Credit card / Prepaid card</td>\n",
       "    </tr>\n",
       "    <tr>\n",
       "      <th>78309</th>\n",
       "      <td>on wednesday xx xx xxxx i called chas my xxxx ...</td>\n",
       "      <td>on wednesday xx xx xxxx I call chas my xxxx xx...</td>\n",
       "      <td>xxxx xxxx credit card provider claim purchase ...</td>\n",
       "      <td>credit card provider claim purchase protecti...</td>\n",
       "      <td>Others</td>\n",
       "    </tr>\n",
       "    <tr>\n",
       "      <th>78310</th>\n",
       "      <td>i am not familiar with xxxx pay and did not un...</td>\n",
       "      <td>I be not familiar with xxxx pay and do not und...</td>\n",
       "      <td>xxxx risk consumer chase bank app chase year b...</td>\n",
       "      <td>risk consumer chase bank app chase year banki...</td>\n",
       "      <td>Others</td>\n",
       "    </tr>\n",
       "    <tr>\n",
       "      <th>78311</th>\n",
       "      <td>i have had flawless credit for  yrs i ve had c...</td>\n",
       "      <td>I have have flawless credit for   yrs I ve hav...</td>\n",
       "      <td>credit yrs chase credit card chase freedom pro...</td>\n",
       "      <td>credit yrs chase credit card chase freedom pro...</td>\n",
       "      <td>Credit card / Prepaid card</td>\n",
       "    </tr>\n",
       "    <tr>\n",
       "      <th>78312</th>\n",
       "      <td>roughly  years ago i closed out my accounts wi...</td>\n",
       "      <td>roughly   year ago I close out my account with...</td>\n",
       "      <td>year account order line credit account payment...</td>\n",
       "      <td>year account order line credit account payment...</td>\n",
       "      <td>Mortgages/loans</td>\n",
       "    </tr>\n",
       "  </tbody>\n",
       "</table>\n",
       "<p>21072 rows × 5 columns</p>\n",
       "</div>"
      ],
      "text/plain": [
       "                                complaints_what_happened   \n",
       "1      good morning my name is xxxx xxxx and i apprec...  \\\n",
       "2      i upgraded my xxxx xxxx card in xx xx  and was...   \n",
       "10     chase card was reported on xx xx  however frau...   \n",
       "11     on xx xx  while trying to book a xxxx xxxx tic...   \n",
       "14     my grand son give me check for i deposit it in...   \n",
       "...                                                  ...   \n",
       "78303  after being a chase card customer for well ove...   \n",
       "78309  on wednesday xx xx xxxx i called chas my xxxx ...   \n",
       "78310  i am not familiar with xxxx pay and did not un...   \n",
       "78311  i have had flawless credit for  yrs i ve had c...   \n",
       "78312  roughly  years ago i closed out my accounts wi...   \n",
       "\n",
       "                                   complaints_lemmatized   \n",
       "1      good morning my name be xxxx xxxx and I apprec...  \\\n",
       "2      I upgrade my xxxx xxxx card in xx xx   and be ...   \n",
       "10     chase card be report on xx xx   however fraudu...   \n",
       "11     on xx xx   while try to book a xxxx xxxx ticke...   \n",
       "14     my grand son give I check for I deposit it int...   \n",
       "...                                                  ...   \n",
       "78303  after be a chase card customer for well over a...   \n",
       "78309  on wednesday xx xx xxxx I call chas my xxxx xx...   \n",
       "78310  I be not familiar with xxxx pay and do not und...   \n",
       "78311  I have have flawless credit for   yrs I ve hav...   \n",
       "78312  roughly   year ago I close out my account with...   \n",
       "\n",
       "                                  complaints_POS_removed   \n",
       "1      morning name stop bank cardmember service ask ...  \\\n",
       "2      xxxx card agent anniversary date agent informa...   \n",
       "10     chase card report application identity consent...   \n",
       "11     xxxx xxxx ticket offer ticket reward card info...   \n",
       "14     son chase account fund chase bank account mone...   \n",
       "...                                                  ...   \n",
       "78303  chase card customer decade solicitation credit...   \n",
       "78309  xxxx xxxx credit card provider claim purchase ...   \n",
       "78310  xxxx risk consumer chase bank app chase year b...   \n",
       "78311  credit yrs chase credit card chase freedom pro...   \n",
       "78312  year account order line credit account payment...   \n",
       "\n",
       "                                        Complaints_clean   \n",
       "1      morning name stop bank cardmember service ask ...  \\\n",
       "2       card agent anniversary date agent information...   \n",
       "10     chase card report application identity consent...   \n",
       "11       ticket offer ticket reward card information ...   \n",
       "14     son chase account fund chase bank account mone...   \n",
       "...                                                  ...   \n",
       "78303  chase card customer decade solicitation credit...   \n",
       "78309    credit card provider claim purchase protecti...   \n",
       "78310   risk consumer chase bank app chase year banki...   \n",
       "78311  credit yrs chase credit card chase freedom pro...   \n",
       "78312  year account order line credit account payment...   \n",
       "\n",
       "                            Topic  \n",
       "1           Bank account services  \n",
       "2      Credit card / Prepaid card  \n",
       "10        Theft/Dispute reporting  \n",
       "11        Theft/Dispute reporting  \n",
       "14          Bank account services  \n",
       "...                           ...  \n",
       "78303  Credit card / Prepaid card  \n",
       "78309                      Others  \n",
       "78310                      Others  \n",
       "78311  Credit card / Prepaid card  \n",
       "78312             Mortgages/loans  \n",
       "\n",
       "[21072 rows x 5 columns]"
      ]
     },
     "execution_count": 52,
     "metadata": {},
     "output_type": "execute_result"
    }
   ],
   "source": [
    "df_clean"
   ]
  },
  {
   "cell_type": "code",
   "execution_count": 53,
   "metadata": {},
   "outputs": [
    {
     "data": {
      "text/plain": [
       "(21072, 5)"
      ]
     },
     "execution_count": 53,
     "metadata": {},
     "output_type": "execute_result"
    }
   ],
   "source": [
    "df_clean.shape\n"
   ]
  },
  {
   "cell_type": "code",
   "execution_count": 54,
   "metadata": {},
   "outputs": [
    {
     "data": {
      "text/html": [
       "<div>\n",
       "<style scoped>\n",
       "    .dataframe tbody tr th:only-of-type {\n",
       "        vertical-align: middle;\n",
       "    }\n",
       "\n",
       "    .dataframe tbody tr th {\n",
       "        vertical-align: top;\n",
       "    }\n",
       "\n",
       "    .dataframe thead th {\n",
       "        text-align: right;\n",
       "    }\n",
       "</style>\n",
       "<table border=\"1\" class=\"dataframe\">\n",
       "  <thead>\n",
       "    <tr style=\"text-align: right;\">\n",
       "      <th></th>\n",
       "      <th>complaints_what_happened</th>\n",
       "      <th>complaints_lemmatized</th>\n",
       "      <th>complaints_POS_removed</th>\n",
       "      <th>Complaints_clean</th>\n",
       "      <th>Topic</th>\n",
       "    </tr>\n",
       "  </thead>\n",
       "  <tbody>\n",
       "    <tr>\n",
       "      <th>1</th>\n",
       "      <td>good morning my name is xxxx xxxx and i apprec...</td>\n",
       "      <td>good morning my name be xxxx xxxx and I apprec...</td>\n",
       "      <td>morning name stop bank cardmember service ask ...</td>\n",
       "      <td>morning name stop bank cardmember service ask ...</td>\n",
       "      <td>Bank account services</td>\n",
       "    </tr>\n",
       "    <tr>\n",
       "      <th>2</th>\n",
       "      <td>i upgraded my xxxx xxxx card in xx xx  and was...</td>\n",
       "      <td>I upgrade my xxxx xxxx card in xx xx   and be ...</td>\n",
       "      <td>xxxx card agent anniversary date agent informa...</td>\n",
       "      <td>card agent anniversary date agent information...</td>\n",
       "      <td>Credit card / Prepaid card</td>\n",
       "    </tr>\n",
       "    <tr>\n",
       "      <th>10</th>\n",
       "      <td>chase card was reported on xx xx  however frau...</td>\n",
       "      <td>chase card be report on xx xx   however fraudu...</td>\n",
       "      <td>chase card report application identity consent...</td>\n",
       "      <td>chase card report application identity consent...</td>\n",
       "      <td>Theft/Dispute reporting</td>\n",
       "    </tr>\n",
       "    <tr>\n",
       "      <th>11</th>\n",
       "      <td>on xx xx  while trying to book a xxxx xxxx tic...</td>\n",
       "      <td>on xx xx   while try to book a xxxx xxxx ticke...</td>\n",
       "      <td>xxxx xxxx ticket offer ticket reward card info...</td>\n",
       "      <td>ticket offer ticket reward card information ...</td>\n",
       "      <td>Theft/Dispute reporting</td>\n",
       "    </tr>\n",
       "    <tr>\n",
       "      <th>14</th>\n",
       "      <td>my grand son give me check for i deposit it in...</td>\n",
       "      <td>my grand son give I check for I deposit it int...</td>\n",
       "      <td>son chase account fund chase bank account mone...</td>\n",
       "      <td>son chase account fund chase bank account mone...</td>\n",
       "      <td>Bank account services</td>\n",
       "    </tr>\n",
       "  </tbody>\n",
       "</table>\n",
       "</div>"
      ],
      "text/plain": [
       "                             complaints_what_happened   \n",
       "1   good morning my name is xxxx xxxx and i apprec...  \\\n",
       "2   i upgraded my xxxx xxxx card in xx xx  and was...   \n",
       "10  chase card was reported on xx xx  however frau...   \n",
       "11  on xx xx  while trying to book a xxxx xxxx tic...   \n",
       "14  my grand son give me check for i deposit it in...   \n",
       "\n",
       "                                complaints_lemmatized   \n",
       "1   good morning my name be xxxx xxxx and I apprec...  \\\n",
       "2   I upgrade my xxxx xxxx card in xx xx   and be ...   \n",
       "10  chase card be report on xx xx   however fraudu...   \n",
       "11  on xx xx   while try to book a xxxx xxxx ticke...   \n",
       "14  my grand son give I check for I deposit it int...   \n",
       "\n",
       "                               complaints_POS_removed   \n",
       "1   morning name stop bank cardmember service ask ...  \\\n",
       "2   xxxx card agent anniversary date agent informa...   \n",
       "10  chase card report application identity consent...   \n",
       "11  xxxx xxxx ticket offer ticket reward card info...   \n",
       "14  son chase account fund chase bank account mone...   \n",
       "\n",
       "                                     Complaints_clean   \n",
       "1   morning name stop bank cardmember service ask ...  \\\n",
       "2    card agent anniversary date agent information...   \n",
       "10  chase card report application identity consent...   \n",
       "11    ticket offer ticket reward card information ...   \n",
       "14  son chase account fund chase bank account mone...   \n",
       "\n",
       "                         Topic  \n",
       "1        Bank account services  \n",
       "2   Credit card / Prepaid card  \n",
       "10     Theft/Dispute reporting  \n",
       "11     Theft/Dispute reporting  \n",
       "14       Bank account services  "
      ]
     },
     "execution_count": 54,
     "metadata": {},
     "output_type": "execute_result"
    }
   ],
   "source": [
    "df_clean.head()"
   ]
  },
  {
   "cell_type": "markdown",
   "metadata": {
    "id": "7Mu0QBOcJrGH"
   },
   "source": [
    "## Supervised model to predict any new complaints to the relevant Topics.\n",
    "\n",
    "You have now build the model to create the topics for each complaints.Now in the below section you will use them to classify any new complaints.\n",
    "\n",
    "Since you will be using supervised learning technique we have to convert the topic names to numbers(numpy arrays only understand numbers)"
   ]
  },
  {
   "cell_type": "code",
   "execution_count": 55,
   "metadata": {
    "id": "_U8J3J8wJrGH"
   },
   "outputs": [],
   "source": [
    "#Create the dictionary again of Topic names and Topics\n",
    "Topic_names = { \"Bank account services\":0, \"Credit card / Prepaid card\":1, \n",
    "               \"Mortgages/loans\":3, \"Theft/Dispute reporting\":4, \n",
    "                \"Others\":5}\n",
    "#Replace Topics with Topic Names\n",
    "df_clean['Topic'] = df_clean['Topic'].map(Topic_names)"
   ]
  },
  {
   "cell_type": "code",
   "execution_count": 56,
   "metadata": {
    "id": "BWIgJUkQJrGH"
   },
   "outputs": [
    {
     "data": {
      "text/html": [
       "<div>\n",
       "<style scoped>\n",
       "    .dataframe tbody tr th:only-of-type {\n",
       "        vertical-align: middle;\n",
       "    }\n",
       "\n",
       "    .dataframe tbody tr th {\n",
       "        vertical-align: top;\n",
       "    }\n",
       "\n",
       "    .dataframe thead th {\n",
       "        text-align: right;\n",
       "    }\n",
       "</style>\n",
       "<table border=\"1\" class=\"dataframe\">\n",
       "  <thead>\n",
       "    <tr style=\"text-align: right;\">\n",
       "      <th></th>\n",
       "      <th>complaints_what_happened</th>\n",
       "      <th>complaints_lemmatized</th>\n",
       "      <th>complaints_POS_removed</th>\n",
       "      <th>Complaints_clean</th>\n",
       "      <th>Topic</th>\n",
       "    </tr>\n",
       "  </thead>\n",
       "  <tbody>\n",
       "    <tr>\n",
       "      <th>1</th>\n",
       "      <td>good morning my name is xxxx xxxx and i apprec...</td>\n",
       "      <td>good morning my name be xxxx xxxx and I apprec...</td>\n",
       "      <td>morning name stop bank cardmember service ask ...</td>\n",
       "      <td>morning name stop bank cardmember service ask ...</td>\n",
       "      <td>0</td>\n",
       "    </tr>\n",
       "    <tr>\n",
       "      <th>2</th>\n",
       "      <td>i upgraded my xxxx xxxx card in xx xx  and was...</td>\n",
       "      <td>I upgrade my xxxx xxxx card in xx xx   and be ...</td>\n",
       "      <td>xxxx card agent anniversary date agent informa...</td>\n",
       "      <td>card agent anniversary date agent information...</td>\n",
       "      <td>1</td>\n",
       "    </tr>\n",
       "    <tr>\n",
       "      <th>10</th>\n",
       "      <td>chase card was reported on xx xx  however frau...</td>\n",
       "      <td>chase card be report on xx xx   however fraudu...</td>\n",
       "      <td>chase card report application identity consent...</td>\n",
       "      <td>chase card report application identity consent...</td>\n",
       "      <td>4</td>\n",
       "    </tr>\n",
       "    <tr>\n",
       "      <th>11</th>\n",
       "      <td>on xx xx  while trying to book a xxxx xxxx tic...</td>\n",
       "      <td>on xx xx   while try to book a xxxx xxxx ticke...</td>\n",
       "      <td>xxxx xxxx ticket offer ticket reward card info...</td>\n",
       "      <td>ticket offer ticket reward card information ...</td>\n",
       "      <td>4</td>\n",
       "    </tr>\n",
       "    <tr>\n",
       "      <th>14</th>\n",
       "      <td>my grand son give me check for i deposit it in...</td>\n",
       "      <td>my grand son give I check for I deposit it int...</td>\n",
       "      <td>son chase account fund chase bank account mone...</td>\n",
       "      <td>son chase account fund chase bank account mone...</td>\n",
       "      <td>0</td>\n",
       "    </tr>\n",
       "    <tr>\n",
       "      <th>...</th>\n",
       "      <td>...</td>\n",
       "      <td>...</td>\n",
       "      <td>...</td>\n",
       "      <td>...</td>\n",
       "      <td>...</td>\n",
       "    </tr>\n",
       "    <tr>\n",
       "      <th>78303</th>\n",
       "      <td>after being a chase card customer for well ove...</td>\n",
       "      <td>after be a chase card customer for well over a...</td>\n",
       "      <td>chase card customer decade solicitation credit...</td>\n",
       "      <td>chase card customer decade solicitation credit...</td>\n",
       "      <td>1</td>\n",
       "    </tr>\n",
       "    <tr>\n",
       "      <th>78309</th>\n",
       "      <td>on wednesday xx xx xxxx i called chas my xxxx ...</td>\n",
       "      <td>on wednesday xx xx xxxx I call chas my xxxx xx...</td>\n",
       "      <td>xxxx xxxx credit card provider claim purchase ...</td>\n",
       "      <td>credit card provider claim purchase protecti...</td>\n",
       "      <td>5</td>\n",
       "    </tr>\n",
       "    <tr>\n",
       "      <th>78310</th>\n",
       "      <td>i am not familiar with xxxx pay and did not un...</td>\n",
       "      <td>I be not familiar with xxxx pay and do not und...</td>\n",
       "      <td>xxxx risk consumer chase bank app chase year b...</td>\n",
       "      <td>risk consumer chase bank app chase year banki...</td>\n",
       "      <td>5</td>\n",
       "    </tr>\n",
       "    <tr>\n",
       "      <th>78311</th>\n",
       "      <td>i have had flawless credit for  yrs i ve had c...</td>\n",
       "      <td>I have have flawless credit for   yrs I ve hav...</td>\n",
       "      <td>credit yrs chase credit card chase freedom pro...</td>\n",
       "      <td>credit yrs chase credit card chase freedom pro...</td>\n",
       "      <td>1</td>\n",
       "    </tr>\n",
       "    <tr>\n",
       "      <th>78312</th>\n",
       "      <td>roughly  years ago i closed out my accounts wi...</td>\n",
       "      <td>roughly   year ago I close out my account with...</td>\n",
       "      <td>year account order line credit account payment...</td>\n",
       "      <td>year account order line credit account payment...</td>\n",
       "      <td>3</td>\n",
       "    </tr>\n",
       "  </tbody>\n",
       "</table>\n",
       "<p>21072 rows × 5 columns</p>\n",
       "</div>"
      ],
      "text/plain": [
       "                                complaints_what_happened   \n",
       "1      good morning my name is xxxx xxxx and i apprec...  \\\n",
       "2      i upgraded my xxxx xxxx card in xx xx  and was...   \n",
       "10     chase card was reported on xx xx  however frau...   \n",
       "11     on xx xx  while trying to book a xxxx xxxx tic...   \n",
       "14     my grand son give me check for i deposit it in...   \n",
       "...                                                  ...   \n",
       "78303  after being a chase card customer for well ove...   \n",
       "78309  on wednesday xx xx xxxx i called chas my xxxx ...   \n",
       "78310  i am not familiar with xxxx pay and did not un...   \n",
       "78311  i have had flawless credit for  yrs i ve had c...   \n",
       "78312  roughly  years ago i closed out my accounts wi...   \n",
       "\n",
       "                                   complaints_lemmatized   \n",
       "1      good morning my name be xxxx xxxx and I apprec...  \\\n",
       "2      I upgrade my xxxx xxxx card in xx xx   and be ...   \n",
       "10     chase card be report on xx xx   however fraudu...   \n",
       "11     on xx xx   while try to book a xxxx xxxx ticke...   \n",
       "14     my grand son give I check for I deposit it int...   \n",
       "...                                                  ...   \n",
       "78303  after be a chase card customer for well over a...   \n",
       "78309  on wednesday xx xx xxxx I call chas my xxxx xx...   \n",
       "78310  I be not familiar with xxxx pay and do not und...   \n",
       "78311  I have have flawless credit for   yrs I ve hav...   \n",
       "78312  roughly   year ago I close out my account with...   \n",
       "\n",
       "                                  complaints_POS_removed   \n",
       "1      morning name stop bank cardmember service ask ...  \\\n",
       "2      xxxx card agent anniversary date agent informa...   \n",
       "10     chase card report application identity consent...   \n",
       "11     xxxx xxxx ticket offer ticket reward card info...   \n",
       "14     son chase account fund chase bank account mone...   \n",
       "...                                                  ...   \n",
       "78303  chase card customer decade solicitation credit...   \n",
       "78309  xxxx xxxx credit card provider claim purchase ...   \n",
       "78310  xxxx risk consumer chase bank app chase year b...   \n",
       "78311  credit yrs chase credit card chase freedom pro...   \n",
       "78312  year account order line credit account payment...   \n",
       "\n",
       "                                        Complaints_clean  Topic  \n",
       "1      morning name stop bank cardmember service ask ...      0  \n",
       "2       card agent anniversary date agent information...      1  \n",
       "10     chase card report application identity consent...      4  \n",
       "11       ticket offer ticket reward card information ...      4  \n",
       "14     son chase account fund chase bank account mone...      0  \n",
       "...                                                  ...    ...  \n",
       "78303  chase card customer decade solicitation credit...      1  \n",
       "78309    credit card provider claim purchase protecti...      5  \n",
       "78310   risk consumer chase bank app chase year banki...      5  \n",
       "78311  credit yrs chase credit card chase freedom pro...      1  \n",
       "78312  year account order line credit account payment...      3  \n",
       "\n",
       "[21072 rows x 5 columns]"
      ]
     },
     "execution_count": 56,
     "metadata": {},
     "output_type": "execute_result"
    }
   ],
   "source": [
    "df_clean"
   ]
  },
  {
   "cell_type": "code",
   "execution_count": 57,
   "metadata": {
    "id": "Xx-FrbkWJrGH"
   },
   "outputs": [],
   "source": [
    "#Keep the columns\"complaints_what_happened\" & \"Topic\" only in the new dataframe --> training_data\n",
    "training_data = df_clean[['complaints_what_happened', 'Topic']]"
   ]
  },
  {
   "cell_type": "code",
   "execution_count": 58,
   "metadata": {
    "id": "lVg2pa12JrGI"
   },
   "outputs": [
    {
     "data": {
      "text/html": [
       "<div>\n",
       "<style scoped>\n",
       "    .dataframe tbody tr th:only-of-type {\n",
       "        vertical-align: middle;\n",
       "    }\n",
       "\n",
       "    .dataframe tbody tr th {\n",
       "        vertical-align: top;\n",
       "    }\n",
       "\n",
       "    .dataframe thead th {\n",
       "        text-align: right;\n",
       "    }\n",
       "</style>\n",
       "<table border=\"1\" class=\"dataframe\">\n",
       "  <thead>\n",
       "    <tr style=\"text-align: right;\">\n",
       "      <th></th>\n",
       "      <th>complaints_what_happened</th>\n",
       "      <th>Topic</th>\n",
       "    </tr>\n",
       "  </thead>\n",
       "  <tbody>\n",
       "    <tr>\n",
       "      <th>1</th>\n",
       "      <td>good morning my name is xxxx xxxx and i apprec...</td>\n",
       "      <td>0</td>\n",
       "    </tr>\n",
       "    <tr>\n",
       "      <th>2</th>\n",
       "      <td>i upgraded my xxxx xxxx card in xx xx  and was...</td>\n",
       "      <td>1</td>\n",
       "    </tr>\n",
       "    <tr>\n",
       "      <th>10</th>\n",
       "      <td>chase card was reported on xx xx  however frau...</td>\n",
       "      <td>4</td>\n",
       "    </tr>\n",
       "    <tr>\n",
       "      <th>11</th>\n",
       "      <td>on xx xx  while trying to book a xxxx xxxx tic...</td>\n",
       "      <td>4</td>\n",
       "    </tr>\n",
       "    <tr>\n",
       "      <th>14</th>\n",
       "      <td>my grand son give me check for i deposit it in...</td>\n",
       "      <td>0</td>\n",
       "    </tr>\n",
       "    <tr>\n",
       "      <th>...</th>\n",
       "      <td>...</td>\n",
       "      <td>...</td>\n",
       "    </tr>\n",
       "    <tr>\n",
       "      <th>78303</th>\n",
       "      <td>after being a chase card customer for well ove...</td>\n",
       "      <td>1</td>\n",
       "    </tr>\n",
       "    <tr>\n",
       "      <th>78309</th>\n",
       "      <td>on wednesday xx xx xxxx i called chas my xxxx ...</td>\n",
       "      <td>5</td>\n",
       "    </tr>\n",
       "    <tr>\n",
       "      <th>78310</th>\n",
       "      <td>i am not familiar with xxxx pay and did not un...</td>\n",
       "      <td>5</td>\n",
       "    </tr>\n",
       "    <tr>\n",
       "      <th>78311</th>\n",
       "      <td>i have had flawless credit for  yrs i ve had c...</td>\n",
       "      <td>1</td>\n",
       "    </tr>\n",
       "    <tr>\n",
       "      <th>78312</th>\n",
       "      <td>roughly  years ago i closed out my accounts wi...</td>\n",
       "      <td>3</td>\n",
       "    </tr>\n",
       "  </tbody>\n",
       "</table>\n",
       "<p>21072 rows × 2 columns</p>\n",
       "</div>"
      ],
      "text/plain": [
       "                                complaints_what_happened  Topic\n",
       "1      good morning my name is xxxx xxxx and i apprec...      0\n",
       "2      i upgraded my xxxx xxxx card in xx xx  and was...      1\n",
       "10     chase card was reported on xx xx  however frau...      4\n",
       "11     on xx xx  while trying to book a xxxx xxxx tic...      4\n",
       "14     my grand son give me check for i deposit it in...      0\n",
       "...                                                  ...    ...\n",
       "78303  after being a chase card customer for well ove...      1\n",
       "78309  on wednesday xx xx xxxx i called chas my xxxx ...      5\n",
       "78310  i am not familiar with xxxx pay and did not un...      5\n",
       "78311  i have had flawless credit for  yrs i ve had c...      1\n",
       "78312  roughly  years ago i closed out my accounts wi...      3\n",
       "\n",
       "[21072 rows x 2 columns]"
      ]
     },
     "execution_count": 58,
     "metadata": {},
     "output_type": "execute_result"
    }
   ],
   "source": [
    "training_data"
   ]
  },
  {
   "cell_type": "markdown",
   "metadata": {
    "id": "280Vbqk-7a8M"
   },
   "source": [
    "#### Apply the supervised models on the training data created. In this process, you have to do the following:\n",
    "* Create the vector counts using Count Vectoriser\n",
    "* Transform the word vecotr to tf-idf\n",
    "* Create the train & test data using the train_test_split on the tf-idf & topics\n"
   ]
  },
  {
   "cell_type": "code",
   "execution_count": 59,
   "metadata": {
    "id": "oUlQpgkzJrGI"
   },
   "outputs": [],
   "source": [
    "# Write your code to get the Vector count\n",
    "vect = CountVectorizer()\n",
    "X_train_cnt = vect.fit_transform(training_data['complaints_what_happened'])\n",
    "\n",
    "# Save word vector\n",
    "pickle.dump(vect.vocabulary_, open(\"count_vector.pkl\", \"wb\"))"
   ]
  },
  {
   "cell_type": "code",
   "execution_count": 60,
   "metadata": {},
   "outputs": [],
   "source": [
    "#Write your code here to transform the word vector to tf-idf\n",
    "tfidf_transformer = TfidfTransformer()\n",
    "X_train_tfidf = tfidf_transformer.fit_transform(X_train_cnt)\n",
    "\n",
    "# Save tfidf\n",
    "pickle.dump(tfidf_transformer, open('tfidf.pk1', \"wb\"))"
   ]
  },
  {
   "cell_type": "markdown",
   "metadata": {
    "id": "uMU3vj6w-wqL"
   },
   "source": [
    "You have to try atleast 3 models on the train & test data from these options:\n",
    "* Logistic regression\n",
    "* Decision Tree\n",
    "* Random Forest\n",
    "* Naive Bayes (optional)\n",
    "\n",
    "**Using the required evaluation metrics judge the tried models and select the ones performing the best**"
   ]
  },
  {
   "cell_type": "markdown",
   "metadata": {
    "id": "udLHpPsZJrGI"
   },
   "source": [
    "### Logistic Regression"
   ]
  },
  {
   "cell_type": "code",
   "execution_count": 61,
   "metadata": {
    "id": "N2OznsObJrGP"
   },
   "outputs": [],
   "source": [
    "# Importing LogisticRegression from sklearn\n",
    "from sklearn.linear_model import LogisticRegression\n",
    "# Importing Train, Test Split\n",
    "from sklearn.model_selection import train_test_split"
   ]
  },
  {
   "cell_type": "code",
   "execution_count": 62,
   "metadata": {},
   "outputs": [],
   "source": [
    "# Train, Test Split\n",
    "X_train, X_test, y_train, y_test = train_test_split(X_train_tfidf, training_data['Topic'], test_size=0.3, random_state=42)"
   ]
  },
  {
   "cell_type": "code",
   "execution_count": 63,
   "metadata": {},
   "outputs": [],
   "source": [
    "logistic_regression = LogisticRegression(random_state=42, max_iter=500).fit(X_train, y_train)"
   ]
  },
  {
   "cell_type": "code",
   "execution_count": 64,
   "metadata": {},
   "outputs": [
    {
     "data": {
      "text/plain": [
       "0.9104713698196774"
      ]
     },
     "execution_count": 64,
     "metadata": {},
     "output_type": "execute_result"
    }
   ],
   "source": [
    "# Getting the score of the base model\n",
    "logistic_regression.score(X_test, y_test)\n"
   ]
  },
  {
   "cell_type": "markdown",
   "metadata": {},
   "source": [
    "Note: Accuracy with base logistic regression is roughly 91%\n",
    "\n",
    "##### HyperParameter Tuning"
   ]
  },
  {
   "cell_type": "raw",
   "metadata": {},
   "source": [
    "logistic_regression_grid = {\"C\": [100, 10, 5, 4, 3, 2, 1, 1.0, 0.1, 0.01]}"
   ]
  },
  {
   "cell_type": "code",
   "execution_count": 66,
   "metadata": {},
   "outputs": [
    {
     "name": "stdout",
     "output_type": "stream",
     "text": [
      "Fitting 5 folds for each of 10 candidates, totalling 50 fits\n"
     ]
    },
    {
     "data": {
      "text/html": [
       "<style>#sk-container-id-1 {color: black;background-color: white;}#sk-container-id-1 pre{padding: 0;}#sk-container-id-1 div.sk-toggleable {background-color: white;}#sk-container-id-1 label.sk-toggleable__label {cursor: pointer;display: block;width: 100%;margin-bottom: 0;padding: 0.3em;box-sizing: border-box;text-align: center;}#sk-container-id-1 label.sk-toggleable__label-arrow:before {content: \"▸\";float: left;margin-right: 0.25em;color: #696969;}#sk-container-id-1 label.sk-toggleable__label-arrow:hover:before {color: black;}#sk-container-id-1 div.sk-estimator:hover label.sk-toggleable__label-arrow:before {color: black;}#sk-container-id-1 div.sk-toggleable__content {max-height: 0;max-width: 0;overflow: hidden;text-align: left;background-color: #f0f8ff;}#sk-container-id-1 div.sk-toggleable__content pre {margin: 0.2em;color: black;border-radius: 0.25em;background-color: #f0f8ff;}#sk-container-id-1 input.sk-toggleable__control:checked~div.sk-toggleable__content {max-height: 200px;max-width: 100%;overflow: auto;}#sk-container-id-1 input.sk-toggleable__control:checked~label.sk-toggleable__label-arrow:before {content: \"▾\";}#sk-container-id-1 div.sk-estimator input.sk-toggleable__control:checked~label.sk-toggleable__label {background-color: #d4ebff;}#sk-container-id-1 div.sk-label input.sk-toggleable__control:checked~label.sk-toggleable__label {background-color: #d4ebff;}#sk-container-id-1 input.sk-hidden--visually {border: 0;clip: rect(1px 1px 1px 1px);clip: rect(1px, 1px, 1px, 1px);height: 1px;margin: -1px;overflow: hidden;padding: 0;position: absolute;width: 1px;}#sk-container-id-1 div.sk-estimator {font-family: monospace;background-color: #f0f8ff;border: 1px dotted black;border-radius: 0.25em;box-sizing: border-box;margin-bottom: 0.5em;}#sk-container-id-1 div.sk-estimator:hover {background-color: #d4ebff;}#sk-container-id-1 div.sk-parallel-item::after {content: \"\";width: 100%;border-bottom: 1px solid gray;flex-grow: 1;}#sk-container-id-1 div.sk-label:hover label.sk-toggleable__label {background-color: #d4ebff;}#sk-container-id-1 div.sk-serial::before {content: \"\";position: absolute;border-left: 1px solid gray;box-sizing: border-box;top: 0;bottom: 0;left: 50%;z-index: 0;}#sk-container-id-1 div.sk-serial {display: flex;flex-direction: column;align-items: center;background-color: white;padding-right: 0.2em;padding-left: 0.2em;position: relative;}#sk-container-id-1 div.sk-item {position: relative;z-index: 1;}#sk-container-id-1 div.sk-parallel {display: flex;align-items: stretch;justify-content: center;background-color: white;position: relative;}#sk-container-id-1 div.sk-item::before, #sk-container-id-1 div.sk-parallel-item::before {content: \"\";position: absolute;border-left: 1px solid gray;box-sizing: border-box;top: 0;bottom: 0;left: 50%;z-index: -1;}#sk-container-id-1 div.sk-parallel-item {display: flex;flex-direction: column;z-index: 1;position: relative;background-color: white;}#sk-container-id-1 div.sk-parallel-item:first-child::after {align-self: flex-end;width: 50%;}#sk-container-id-1 div.sk-parallel-item:last-child::after {align-self: flex-start;width: 50%;}#sk-container-id-1 div.sk-parallel-item:only-child::after {width: 0;}#sk-container-id-1 div.sk-dashed-wrapped {border: 1px dashed gray;margin: 0 0.4em 0.5em 0.4em;box-sizing: border-box;padding-bottom: 0.4em;background-color: white;}#sk-container-id-1 div.sk-label label {font-family: monospace;font-weight: bold;display: inline-block;line-height: 1.2em;}#sk-container-id-1 div.sk-label-container {text-align: center;}#sk-container-id-1 div.sk-container {/* jupyter's `normalize.less` sets `[hidden] { display: none; }` but bootstrap.min.css set `[hidden] { display: none !important; }` so we also need the `!important` here to be able to override the default hidden behavior on the sphinx rendered scikit-learn.org. See: https://github.com/scikit-learn/scikit-learn/issues/21755 */display: inline-block !important;position: relative;}#sk-container-id-1 div.sk-text-repr-fallback {display: none;}</style><div id=\"sk-container-id-1\" class=\"sk-top-container\"><div class=\"sk-text-repr-fallback\"><pre>GridSearchCV(cv=5, estimator=LogisticRegression(max_iter=500, random_state=42),\n",
       "             n_jobs=-1,\n",
       "             param_grid={&#x27;C&#x27;: [100, 10, 5, 4, 3, 2, 1, 1.0, 0.1, 0.01]},\n",
       "             verbose=True)</pre><b>In a Jupyter environment, please rerun this cell to show the HTML representation or trust the notebook. <br />On GitHub, the HTML representation is unable to render, please try loading this page with nbviewer.org.</b></div><div class=\"sk-container\" hidden><div class=\"sk-item sk-dashed-wrapped\"><div class=\"sk-label-container\"><div class=\"sk-label sk-toggleable\"><input class=\"sk-toggleable__control sk-hidden--visually\" id=\"sk-estimator-id-1\" type=\"checkbox\" ><label for=\"sk-estimator-id-1\" class=\"sk-toggleable__label sk-toggleable__label-arrow\">GridSearchCV</label><div class=\"sk-toggleable__content\"><pre>GridSearchCV(cv=5, estimator=LogisticRegression(max_iter=500, random_state=42),\n",
       "             n_jobs=-1,\n",
       "             param_grid={&#x27;C&#x27;: [100, 10, 5, 4, 3, 2, 1, 1.0, 0.1, 0.01]},\n",
       "             verbose=True)</pre></div></div></div><div class=\"sk-parallel\"><div class=\"sk-parallel-item\"><div class=\"sk-item\"><div class=\"sk-label-container\"><div class=\"sk-label sk-toggleable\"><input class=\"sk-toggleable__control sk-hidden--visually\" id=\"sk-estimator-id-2\" type=\"checkbox\" ><label for=\"sk-estimator-id-2\" class=\"sk-toggleable__label sk-toggleable__label-arrow\">estimator: LogisticRegression</label><div class=\"sk-toggleable__content\"><pre>LogisticRegression(max_iter=500, random_state=42)</pre></div></div></div><div class=\"sk-serial\"><div class=\"sk-item\"><div class=\"sk-estimator sk-toggleable\"><input class=\"sk-toggleable__control sk-hidden--visually\" id=\"sk-estimator-id-3\" type=\"checkbox\" ><label for=\"sk-estimator-id-3\" class=\"sk-toggleable__label sk-toggleable__label-arrow\">LogisticRegression</label><div class=\"sk-toggleable__content\"><pre>LogisticRegression(max_iter=500, random_state=42)</pre></div></div></div></div></div></div></div></div></div></div>"
      ],
      "text/plain": [
       "GridSearchCV(cv=5, estimator=LogisticRegression(max_iter=500, random_state=42),\n",
       "             n_jobs=-1,\n",
       "             param_grid={'C': [100, 10, 5, 4, 3, 2, 1, 1.0, 0.1, 0.01]},\n",
       "             verbose=True)"
      ]
     },
     "execution_count": 66,
     "metadata": {},
     "output_type": "execute_result"
    }
   ],
   "source": [
    "# Setup grid hyperparameter search for LogisticRegression\n",
    "logistic_regression_params = GridSearchCV(LogisticRegression(random_state=42, max_iter=500),\n",
    "                                param_grid=logistic_regression_grid,\n",
    "                                cv=5,\n",
    "                                verbose=True,\n",
    "                                n_jobs=-1)\n",
    "\n",
    "# Fit random hyperparameter search model\n",
    "logistic_regression_params.fit(X_train, y_train)"
   ]
  },
  {
   "cell_type": "code",
   "execution_count": 67,
   "metadata": {},
   "outputs": [
    {
     "data": {
      "text/plain": [
       "{'C': 3}"
      ]
     },
     "execution_count": 67,
     "metadata": {},
     "output_type": "execute_result"
    }
   ],
   "source": [
    "logistic_regression_params.best_params_"
   ]
  },
  {
   "cell_type": "code",
   "execution_count": 68,
   "metadata": {},
   "outputs": [
    {
     "data": {
      "text/plain": [
       "0.9115786143625435"
      ]
     },
     "execution_count": 68,
     "metadata": {},
     "output_type": "execute_result"
    }
   ],
   "source": [
    "# Evaluating the tuned model\n",
    "logistic_regression_params.score(X_test, y_test)"
   ]
  },
  {
   "cell_type": "markdown",
   "metadata": {},
   "source": [
    "The tuned model has an accuracy of 91.15% which is slight improvement over the base logitic regression model having accuracy of 91%"
   ]
  },
  {
   "cell_type": "code",
   "execution_count": 70,
   "metadata": {},
   "outputs": [],
   "source": [
    "# Save Logistic Regression Model\n",
    "pickle.dump(logistic_regression_params, open(\"logreg_model.pk1\", \"wb\"))"
   ]
  },
  {
   "cell_type": "markdown",
   "metadata": {},
   "source": [
    "##### Model Evaluation"
   ]
  },
  {
   "cell_type": "code",
   "execution_count": 71,
   "metadata": {},
   "outputs": [],
   "source": [
    "# Load pickled model\n",
    "logistic_regression_model = pickle.load(open(\"logreg_model.pk1\", \"rb\"))"
   ]
  },
  {
   "cell_type": "code",
   "execution_count": 72,
   "metadata": {},
   "outputs": [],
   "source": [
    "# Make predictions on test data\n",
    "y_pred = logistic_regression_model.predict(X_test)"
   ]
  },
  {
   "cell_type": "code",
   "execution_count": 73,
   "metadata": {},
   "outputs": [
    {
     "name": "stdout",
     "output_type": "stream",
     "text": [
      "[[1430   20   27   14   67]\n",
      " [  25 1112   12   20   54]\n",
      " [  18   14 1438   18   28]\n",
      " [  14   26   22  596   24]\n",
      " [  69   34   48    5 1187]]\n"
     ]
    }
   ],
   "source": [
    "# Print Confusion Matrix\n",
    "print(confusion_matrix(y_test, y_pred))"
   ]
  },
  {
   "cell_type": "code",
   "execution_count": 74,
   "metadata": {},
   "outputs": [
    {
     "data": {
      "image/png": "[encoded data removed]",
      "text/plain": [
       "<Figure size 600x600 with 1 Axes>"
      ]
     },
     "metadata": {},
     "output_type": "display_data"
    }
   ],
   "source": [
    "# Visualize Confusion Matrix with heatmap\n",
    "fig, ax = plt.subplots(figsize=(6, 6))\n",
    "ax = sns.heatmap(confusion_matrix(y_test, y_pred),\n",
    "                 annot=True,\n",
    "                 cbar=False,\n",
    "                 cmap=\"crest\",\n",
    "                 fmt = '0.1f')\n",
    "plt.xlabel(\"Actual label\")\n",
    "plt.ylabel(\"Predicted label\")\n",
    "plt.show()"
   ]
  },
  {
   "cell_type": "code",
   "execution_count": 75,
   "metadata": {},
   "outputs": [],
   "source": [
    "Topic_names = [\"Bank account services\", \"Credit card / Prepaid card\", \"Mortgages/loans\", \"Theft/Dispute reporting\", \"Others\",]"
   ]
  },
  {
   "cell_type": "code",
   "execution_count": 76,
   "metadata": {},
   "outputs": [
    {
     "name": "stdout",
     "output_type": "stream",
     "text": [
      "                            precision    recall  f1-score   support\n",
      "\n",
      "     Bank account services       0.92      0.92      0.92      1558\n",
      "Credit card / Prepaid card       0.92      0.91      0.92      1223\n",
      "           Mortgages/loans       0.93      0.95      0.94      1516\n",
      "   Theft/Dispute reporting       0.91      0.87      0.89       682\n",
      "                    Others       0.87      0.88      0.88      1343\n",
      "\n",
      "                  accuracy                           0.91      6322\n",
      "                 macro avg       0.91      0.91      0.91      6322\n",
      "              weighted avg       0.91      0.91      0.91      6322\n",
      "\n"
     ]
    }
   ],
   "source": [
    "# Print Classification Report\n",
    "print(classification_report(y_test, y_pred, target_names = Topic_names))"
   ]
  },
  {
   "cell_type": "markdown",
   "metadata": {},
   "source": [
    "* Overall accuracy for logistic regression is roughly 91%.\n",
    "* Precision and recall respectively for logistic regression is roughly 91% and 91% accuracy which is really good."
   ]
  },
  {
   "cell_type": "markdown",
   "metadata": {},
   "source": [
    "### Decision Tree Classifier"
   ]
  },
  {
   "cell_type": "code",
   "execution_count": 77,
   "metadata": {},
   "outputs": [],
   "source": [
    "# Importing DecisionTreeClassifier from sklearn\n",
    "from sklearn.tree import DecisionTreeClassifier"
   ]
  },
  {
   "cell_type": "code",
   "execution_count": 78,
   "metadata": {},
   "outputs": [],
   "source": [
    "# Train, Test Split\n",
    "X_train, X_test, y_train, y_test = train_test_split(X_train_tfidf, training_data['Topic'], test_size=0.3, random_state=42)"
   ]
  },
  {
   "cell_type": "code",
   "execution_count": 79,
   "metadata": {},
   "outputs": [],
   "source": [
    "decision_tree = DecisionTreeClassifier(random_state=42).fit(X_train, y_train)\n"
   ]
  },
  {
   "cell_type": "code",
   "execution_count": 80,
   "metadata": {},
   "outputs": [
    {
     "data": {
      "text/plain": [
       "0.7587788674470104"
      ]
     },
     "execution_count": 80,
     "metadata": {},
     "output_type": "execute_result"
    }
   ],
   "source": [
    "# Getting the score of the base model\n",
    "decision_tree.score(X_test, y_test)"
   ]
  },
  {
   "cell_type": "markdown",
   "metadata": {},
   "source": [
    "With base decision tree model, we are getting accuracy of roughly 75.87% "
   ]
  },
  {
   "cell_type": "markdown",
   "metadata": {},
   "source": [
    "##### HyperParameter Tuning"
   ]
  },
  {
   "cell_type": "code",
   "execution_count": 81,
   "metadata": {},
   "outputs": [],
   "source": [
    "decision_tree_grid = {\"max_depth\": [3, 5, 10],\n",
    "           \"min_samples_split\": np.arange(2, 20, 2),\n",
    "           \"min_samples_leaf\": np.arange(1, 20, 2)}"
   ]
  },
  {
   "cell_type": "code",
   "execution_count": 83,
   "metadata": {},
   "outputs": [
    {
     "name": "stdout",
     "output_type": "stream",
     "text": [
      "Fitting 5 folds for each of 270 candidates, totalling 1350 fits\n"
     ]
    },
    {
     "data": {
      "text/html": [
       "<style>#sk-container-id-2 {color: black;background-color: white;}#sk-container-id-2 pre{padding: 0;}#sk-container-id-2 div.sk-toggleable {background-color: white;}#sk-container-id-2 label.sk-toggleable__label {cursor: pointer;display: block;width: 100%;margin-bottom: 0;padding: 0.3em;box-sizing: border-box;text-align: center;}#sk-container-id-2 label.sk-toggleable__label-arrow:before {content: \"▸\";float: left;margin-right: 0.25em;color: #696969;}#sk-container-id-2 label.sk-toggleable__label-arrow:hover:before {color: black;}#sk-container-id-2 div.sk-estimator:hover label.sk-toggleable__label-arrow:before {color: black;}#sk-container-id-2 div.sk-toggleable__content {max-height: 0;max-width: 0;overflow: hidden;text-align: left;background-color: #f0f8ff;}#sk-container-id-2 div.sk-toggleable__content pre {margin: 0.2em;color: black;border-radius: 0.25em;background-color: #f0f8ff;}#sk-container-id-2 input.sk-toggleable__control:checked~div.sk-toggleable__content {max-height: 200px;max-width: 100%;overflow: auto;}#sk-container-id-2 input.sk-toggleable__control:checked~label.sk-toggleable__label-arrow:before {content: \"▾\";}#sk-container-id-2 div.sk-estimator input.sk-toggleable__control:checked~label.sk-toggleable__label {background-color: #d4ebff;}#sk-container-id-2 div.sk-label input.sk-toggleable__control:checked~label.sk-toggleable__label {background-color: #d4ebff;}#sk-container-id-2 input.sk-hidden--visually {border: 0;clip: rect(1px 1px 1px 1px);clip: rect(1px, 1px, 1px, 1px);height: 1px;margin: -1px;overflow: hidden;padding: 0;position: absolute;width: 1px;}#sk-container-id-2 div.sk-estimator {font-family: monospace;background-color: #f0f8ff;border: 1px dotted black;border-radius: 0.25em;box-sizing: border-box;margin-bottom: 0.5em;}#sk-container-id-2 div.sk-estimator:hover {background-color: #d4ebff;}#sk-container-id-2 div.sk-parallel-item::after {content: \"\";width: 100%;border-bottom: 1px solid gray;flex-grow: 1;}#sk-container-id-2 div.sk-label:hover label.sk-toggleable__label {background-color: #d4ebff;}#sk-container-id-2 div.sk-serial::before {content: \"\";position: absolute;border-left: 1px solid gray;box-sizing: border-box;top: 0;bottom: 0;left: 50%;z-index: 0;}#sk-container-id-2 div.sk-serial {display: flex;flex-direction: column;align-items: center;background-color: white;padding-right: 0.2em;padding-left: 0.2em;position: relative;}#sk-container-id-2 div.sk-item {position: relative;z-index: 1;}#sk-container-id-2 div.sk-parallel {display: flex;align-items: stretch;justify-content: center;background-color: white;position: relative;}#sk-container-id-2 div.sk-item::before, #sk-container-id-2 div.sk-parallel-item::before {content: \"\";position: absolute;border-left: 1px solid gray;box-sizing: border-box;top: 0;bottom: 0;left: 50%;z-index: -1;}#sk-container-id-2 div.sk-parallel-item {display: flex;flex-direction: column;z-index: 1;position: relative;background-color: white;}#sk-container-id-2 div.sk-parallel-item:first-child::after {align-self: flex-end;width: 50%;}#sk-container-id-2 div.sk-parallel-item:last-child::after {align-self: flex-start;width: 50%;}#sk-container-id-2 div.sk-parallel-item:only-child::after {width: 0;}#sk-container-id-2 div.sk-dashed-wrapped {border: 1px dashed gray;margin: 0 0.4em 0.5em 0.4em;box-sizing: border-box;padding-bottom: 0.4em;background-color: white;}#sk-container-id-2 div.sk-label label {font-family: monospace;font-weight: bold;display: inline-block;line-height: 1.2em;}#sk-container-id-2 div.sk-label-container {text-align: center;}#sk-container-id-2 div.sk-container {/* jupyter's `normalize.less` sets `[hidden] { display: none; }` but bootstrap.min.css set `[hidden] { display: none !important; }` so we also need the `!important` here to be able to override the default hidden behavior on the sphinx rendered scikit-learn.org. See: https://github.com/scikit-learn/scikit-learn/issues/21755 */display: inline-block !important;position: relative;}#sk-container-id-2 div.sk-text-repr-fallback {display: none;}</style><div id=\"sk-container-id-2\" class=\"sk-top-container\"><div class=\"sk-text-repr-fallback\"><pre>GridSearchCV(cv=5, estimator=DecisionTreeClassifier(random_state=42), n_jobs=-1,\n",
       "             param_grid={&#x27;max_depth&#x27;: [3, 5, 10],\n",
       "                         &#x27;min_samples_leaf&#x27;: array([ 1,  3,  5,  7,  9, 11, 13, 15, 17, 19]),\n",
       "                         &#x27;min_samples_split&#x27;: array([ 2,  4,  6,  8, 10, 12, 14, 16, 18])},\n",
       "             verbose=True)</pre><b>In a Jupyter environment, please rerun this cell to show the HTML representation or trust the notebook. <br />On GitHub, the HTML representation is unable to render, please try loading this page with nbviewer.org.</b></div><div class=\"sk-container\" hidden><div class=\"sk-item sk-dashed-wrapped\"><div class=\"sk-label-container\"><div class=\"sk-label sk-toggleable\"><input class=\"sk-toggleable__control sk-hidden--visually\" id=\"sk-estimator-id-4\" type=\"checkbox\" ><label for=\"sk-estimator-id-4\" class=\"sk-toggleable__label sk-toggleable__label-arrow\">GridSearchCV</label><div class=\"sk-toggleable__content\"><pre>GridSearchCV(cv=5, estimator=DecisionTreeClassifier(random_state=42), n_jobs=-1,\n",
       "             param_grid={&#x27;max_depth&#x27;: [3, 5, 10],\n",
       "                         &#x27;min_samples_leaf&#x27;: array([ 1,  3,  5,  7,  9, 11, 13, 15, 17, 19]),\n",
       "                         &#x27;min_samples_split&#x27;: array([ 2,  4,  6,  8, 10, 12, 14, 16, 18])},\n",
       "             verbose=True)</pre></div></div></div><div class=\"sk-parallel\"><div class=\"sk-parallel-item\"><div class=\"sk-item\"><div class=\"sk-label-container\"><div class=\"sk-label sk-toggleable\"><input class=\"sk-toggleable__control sk-hidden--visually\" id=\"sk-estimator-id-5\" type=\"checkbox\" ><label for=\"sk-estimator-id-5\" class=\"sk-toggleable__label sk-toggleable__label-arrow\">estimator: DecisionTreeClassifier</label><div class=\"sk-toggleable__content\"><pre>DecisionTreeClassifier(random_state=42)</pre></div></div></div><div class=\"sk-serial\"><div class=\"sk-item\"><div class=\"sk-estimator sk-toggleable\"><input class=\"sk-toggleable__control sk-hidden--visually\" id=\"sk-estimator-id-6\" type=\"checkbox\" ><label for=\"sk-estimator-id-6\" class=\"sk-toggleable__label sk-toggleable__label-arrow\">DecisionTreeClassifier</label><div class=\"sk-toggleable__content\"><pre>DecisionTreeClassifier(random_state=42)</pre></div></div></div></div></div></div></div></div></div></div>"
      ],
      "text/plain": [
       "GridSearchCV(cv=5, estimator=DecisionTreeClassifier(random_state=42), n_jobs=-1,\n",
       "             param_grid={'max_depth': [3, 5, 10],\n",
       "                         'min_samples_leaf': array([ 1,  3,  5,  7,  9, 11, 13, 15, 17, 19]),\n",
       "                         'min_samples_split': array([ 2,  4,  6,  8, 10, 12, 14, 16, 18])},\n",
       "             verbose=True)"
      ]
     },
     "execution_count": 83,
     "metadata": {},
     "output_type": "execute_result"
    }
   ],
   "source": [
    "# Setup grid hyperparameter search for LogisticRegression\n",
    "decision_tree_params = GridSearchCV(DecisionTreeClassifier(random_state=42),\n",
    "                                param_grid=decision_tree_grid,\n",
    "                                cv=5,\n",
    "                                verbose=True,\n",
    "                                n_jobs=-1)\n",
    "\n",
    "# Fit random hyperparameter search model\n",
    "decision_tree_params.fit(X_train, y_train)"
   ]
  },
  {
   "cell_type": "code",
   "execution_count": 84,
   "metadata": {},
   "outputs": [
    {
     "data": {
      "text/plain": [
       "{'max_depth': 10, 'min_samples_leaf': 19, 'min_samples_split': 2}"
      ]
     },
     "execution_count": 84,
     "metadata": {},
     "output_type": "execute_result"
    }
   ],
   "source": [
    "# Check best parameters\n",
    "decision_tree_params.best_params_"
   ]
  },
  {
   "cell_type": "code",
   "execution_count": 85,
   "metadata": {},
   "outputs": [
    {
     "data": {
      "text/plain": [
       "0.7421701993040177"
      ]
     },
     "execution_count": 85,
     "metadata": {},
     "output_type": "execute_result"
    }
   ],
   "source": [
    "# Evaluating the tuned model\n",
    "decision_tree_params.score(X_test, y_test)"
   ]
  },
  {
   "cell_type": "markdown",
   "metadata": {},
   "source": [
    "* With the tuned Decision Tree model, we are getting an accuracy of 74.21% which is less than the base decision tree model's accuracy of 75.87%."
   ]
  },
  {
   "cell_type": "code",
   "execution_count": 86,
   "metadata": {},
   "outputs": [],
   "source": [
    "# Save Logistic Regression Model\n",
    "pickle.dump(decision_tree_params, open(\"dt_model.pk1\", \"wb\"))"
   ]
  },
  {
   "cell_type": "markdown",
   "metadata": {},
   "source": [
    "#### Model Evaluation"
   ]
  },
  {
   "cell_type": "code",
   "execution_count": 87,
   "metadata": {},
   "outputs": [],
   "source": [
    "# Load pickled model\n",
    "dt_model = pickle.load(open(\"dt_model.pk1\", \"rb\"))"
   ]
  },
  {
   "cell_type": "code",
   "execution_count": 88,
   "metadata": {},
   "outputs": [],
   "source": [
    "# Make predictions on test data\n",
    "y_pred = dt_model.predict(X_test)"
   ]
  },
  {
   "cell_type": "code",
   "execution_count": 89,
   "metadata": {},
   "outputs": [
    {
     "name": "stdout",
     "output_type": "stream",
     "text": [
      "[[1126   56   73   28  275]\n",
      " [  62  933   20   80  128]\n",
      " [  72   63 1216   36  129]\n",
      " [  51   47   40  474   70]\n",
      " [ 168  111   78   43  943]]\n"
     ]
    }
   ],
   "source": [
    "# Print Confusion Matrix\n",
    "print(confusion_matrix(y_test, y_pred))"
   ]
  },
  {
   "cell_type": "code",
   "execution_count": 90,
   "metadata": {},
   "outputs": [
    {
     "data": {
      "image/png": "[encoded data removed]",
      "text/plain": [
       "<Figure size 600x600 with 1 Axes>"
      ]
     },
     "metadata": {},
     "output_type": "display_data"
    }
   ],
   "source": [
    "# Visualize Confusion Matrix with heatmap\n",
    "fig, ax = plt.subplots(figsize=(6, 6))\n",
    "ax = sns.heatmap(confusion_matrix(y_test, y_pred),\n",
    "                 annot=True,\n",
    "                 cbar=False,\n",
    "                 cmap=\"crest\", fmt = '0.1f')\n",
    "plt.xlabel(\"Actual label\")\n",
    "plt.ylabel(\"Predicted label\")\n",
    "plt.show()"
   ]
  },
  {
   "cell_type": "code",
   "execution_count": 91,
   "metadata": {},
   "outputs": [],
   "source": [
    "Topic_names = [\"Bank account services\", \"Credit card / Prepaid card\", \"Mortgages/loans\", \"Theft/Dispute reporting\", \"Others\",]"
   ]
  },
  {
   "cell_type": "code",
   "execution_count": 93,
   "metadata": {},
   "outputs": [
    {
     "name": "stdout",
     "output_type": "stream",
     "text": [
      "                            precision    recall  f1-score   support\n",
      "\n",
      "     Bank account services       0.76      0.72      0.74      1558\n",
      "Credit card / Prepaid card       0.77      0.76      0.77      1223\n",
      "           Mortgages/loans       0.85      0.80      0.83      1516\n",
      "   Theft/Dispute reporting       0.72      0.70      0.71       682\n",
      "                    Others       0.61      0.70      0.65      1343\n",
      "\n",
      "                  accuracy                           0.74      6322\n",
      "                 macro avg       0.74      0.74      0.74      6322\n",
      "              weighted avg       0.75      0.74      0.74      6322\n",
      "\n"
     ]
    }
   ],
   "source": [
    "# Print Classification Report\n",
    "print(classification_report(y_test, y_pred, target_names = Topic_names))"
   ]
  },
  {
   "cell_type": "markdown",
   "metadata": {},
   "source": [
    "* Overall accuracy of decision tree model is 74%.\n",
    "* Precision and recall is 74% and 74% respectively.\n",
    "* Looking at current scores, we could conclude that logistic regression model is preforming much better."
   ]
  },
  {
   "cell_type": "markdown",
   "metadata": {},
   "source": [
    "### Random Forest Classifier"
   ]
  },
  {
   "cell_type": "code",
   "execution_count": 94,
   "metadata": {},
   "outputs": [],
   "source": [
    "# Importing Random Forest Classifier from sklearn\n",
    "from sklearn.ensemble import RandomForestClassifier\n",
    "# Importing Train, Test Split\n",
    "from sklearn.model_selection import train_test_split"
   ]
  },
  {
   "cell_type": "code",
   "execution_count": 95,
   "metadata": {},
   "outputs": [],
   "source": [
    "# Train, Test Split\n",
    "X_train, X_test, y_train, y_test = train_test_split(X_train_tfidf, training_data['Topic'], test_size=0.3, random_state=42)"
   ]
  },
  {
   "cell_type": "code",
   "execution_count": 96,
   "metadata": {},
   "outputs": [],
   "source": [
    "random_forest_model = RandomForestClassifier(random_state=42).fit(X_train, y_train)\n"
   ]
  },
  {
   "cell_type": "code",
   "execution_count": 97,
   "metadata": {},
   "outputs": [
    {
     "data": {
      "text/plain": [
       "0.8128756722556153"
      ]
     },
     "execution_count": 97,
     "metadata": {},
     "output_type": "execute_result"
    }
   ],
   "source": [
    "# Getting the score of the base model\n",
    "random_forest_model.score(X_test, y_test)"
   ]
  },
  {
   "cell_type": "markdown",
   "metadata": {},
   "source": [
    "The accuracy with base randm forest model is roughly 81.28%."
   ]
  },
  {
   "cell_type": "markdown",
   "metadata": {},
   "source": [
    "##### HyperParameter Tuning"
   ]
  },
  {
   "cell_type": "code",
   "execution_count": 98,
   "metadata": {},
   "outputs": [],
   "source": [
    "random_forest_grid = {\"n_estimators\": np.arange(10, 1000, 50),\n",
    "           \"max_depth\": [3, 5, 10],\n",
    "           \"min_samples_split\": np.arange(2, 20, 2),\n",
    "           \"min_samples_leaf\": np.arange(1, 20, 2)}"
   ]
  },
  {
   "cell_type": "code",
   "execution_count": 99,
   "metadata": {},
   "outputs": [
    {
     "name": "stdout",
     "output_type": "stream",
     "text": [
      "Fitting 5 folds for each of 10 candidates, totalling 50 fits\n"
     ]
    },
    {
     "data": {
      "text/html": [
       "<style>#sk-container-id-3 {color: black;background-color: white;}#sk-container-id-3 pre{padding: 0;}#sk-container-id-3 div.sk-toggleable {background-color: white;}#sk-container-id-3 label.sk-toggleable__label {cursor: pointer;display: block;width: 100%;margin-bottom: 0;padding: 0.3em;box-sizing: border-box;text-align: center;}#sk-container-id-3 label.sk-toggleable__label-arrow:before {content: \"▸\";float: left;margin-right: 0.25em;color: #696969;}#sk-container-id-3 label.sk-toggleable__label-arrow:hover:before {color: black;}#sk-container-id-3 div.sk-estimator:hover label.sk-toggleable__label-arrow:before {color: black;}#sk-container-id-3 div.sk-toggleable__content {max-height: 0;max-width: 0;overflow: hidden;text-align: left;background-color: #f0f8ff;}#sk-container-id-3 div.sk-toggleable__content pre {margin: 0.2em;color: black;border-radius: 0.25em;background-color: #f0f8ff;}#sk-container-id-3 input.sk-toggleable__control:checked~div.sk-toggleable__content {max-height: 200px;max-width: 100%;overflow: auto;}#sk-container-id-3 input.sk-toggleable__control:checked~label.sk-toggleable__label-arrow:before {content: \"▾\";}#sk-container-id-3 div.sk-estimator input.sk-toggleable__control:checked~label.sk-toggleable__label {background-color: #d4ebff;}#sk-container-id-3 div.sk-label input.sk-toggleable__control:checked~label.sk-toggleable__label {background-color: #d4ebff;}#sk-container-id-3 input.sk-hidden--visually {border: 0;clip: rect(1px 1px 1px 1px);clip: rect(1px, 1px, 1px, 1px);height: 1px;margin: -1px;overflow: hidden;padding: 0;position: absolute;width: 1px;}#sk-container-id-3 div.sk-estimator {font-family: monospace;background-color: #f0f8ff;border: 1px dotted black;border-radius: 0.25em;box-sizing: border-box;margin-bottom: 0.5em;}#sk-container-id-3 div.sk-estimator:hover {background-color: #d4ebff;}#sk-container-id-3 div.sk-parallel-item::after {content: \"\";width: 100%;border-bottom: 1px solid gray;flex-grow: 1;}#sk-container-id-3 div.sk-label:hover label.sk-toggleable__label {background-color: #d4ebff;}#sk-container-id-3 div.sk-serial::before {content: \"\";position: absolute;border-left: 1px solid gray;box-sizing: border-box;top: 0;bottom: 0;left: 50%;z-index: 0;}#sk-container-id-3 div.sk-serial {display: flex;flex-direction: column;align-items: center;background-color: white;padding-right: 0.2em;padding-left: 0.2em;position: relative;}#sk-container-id-3 div.sk-item {position: relative;z-index: 1;}#sk-container-id-3 div.sk-parallel {display: flex;align-items: stretch;justify-content: center;background-color: white;position: relative;}#sk-container-id-3 div.sk-item::before, #sk-container-id-3 div.sk-parallel-item::before {content: \"\";position: absolute;border-left: 1px solid gray;box-sizing: border-box;top: 0;bottom: 0;left: 50%;z-index: -1;}#sk-container-id-3 div.sk-parallel-item {display: flex;flex-direction: column;z-index: 1;position: relative;background-color: white;}#sk-container-id-3 div.sk-parallel-item:first-child::after {align-self: flex-end;width: 50%;}#sk-container-id-3 div.sk-parallel-item:last-child::after {align-self: flex-start;width: 50%;}#sk-container-id-3 div.sk-parallel-item:only-child::after {width: 0;}#sk-container-id-3 div.sk-dashed-wrapped {border: 1px dashed gray;margin: 0 0.4em 0.5em 0.4em;box-sizing: border-box;padding-bottom: 0.4em;background-color: white;}#sk-container-id-3 div.sk-label label {font-family: monospace;font-weight: bold;display: inline-block;line-height: 1.2em;}#sk-container-id-3 div.sk-label-container {text-align: center;}#sk-container-id-3 div.sk-container {/* jupyter's `normalize.less` sets `[hidden] { display: none; }` but bootstrap.min.css set `[hidden] { display: none !important; }` so we also need the `!important` here to be able to override the default hidden behavior on the sphinx rendered scikit-learn.org. See: https://github.com/scikit-learn/scikit-learn/issues/21755 */display: inline-block !important;position: relative;}#sk-container-id-3 div.sk-text-repr-fallback {display: none;}</style><div id=\"sk-container-id-3\" class=\"sk-top-container\"><div class=\"sk-text-repr-fallback\"><pre>RandomizedSearchCV(cv=5, estimator=RandomForestClassifier(random_state=42),\n",
       "                   n_jobs=-1,\n",
       "                   param_distributions={&#x27;max_depth&#x27;: [3, 5, 10],\n",
       "                                        &#x27;min_samples_leaf&#x27;: array([ 1,  3,  5,  7,  9, 11, 13, 15, 17, 19]),\n",
       "                                        &#x27;min_samples_split&#x27;: array([ 2,  4,  6,  8, 10, 12, 14, 16, 18]),\n",
       "                                        &#x27;n_estimators&#x27;: array([ 10,  60, 110, 160, 210, 260, 310, 360, 410, 460, 510, 560, 610,\n",
       "       660, 710, 760, 810, 860, 910, 960])},\n",
       "                   verbose=True)</pre><b>In a Jupyter environment, please rerun this cell to show the HTML representation or trust the notebook. <br />On GitHub, the HTML representation is unable to render, please try loading this page with nbviewer.org.</b></div><div class=\"sk-container\" hidden><div class=\"sk-item sk-dashed-wrapped\"><div class=\"sk-label-container\"><div class=\"sk-label sk-toggleable\"><input class=\"sk-toggleable__control sk-hidden--visually\" id=\"sk-estimator-id-7\" type=\"checkbox\" ><label for=\"sk-estimator-id-7\" class=\"sk-toggleable__label sk-toggleable__label-arrow\">RandomizedSearchCV</label><div class=\"sk-toggleable__content\"><pre>RandomizedSearchCV(cv=5, estimator=RandomForestClassifier(random_state=42),\n",
       "                   n_jobs=-1,\n",
       "                   param_distributions={&#x27;max_depth&#x27;: [3, 5, 10],\n",
       "                                        &#x27;min_samples_leaf&#x27;: array([ 1,  3,  5,  7,  9, 11, 13, 15, 17, 19]),\n",
       "                                        &#x27;min_samples_split&#x27;: array([ 2,  4,  6,  8, 10, 12, 14, 16, 18]),\n",
       "                                        &#x27;n_estimators&#x27;: array([ 10,  60, 110, 160, 210, 260, 310, 360, 410, 460, 510, 560, 610,\n",
       "       660, 710, 760, 810, 860, 910, 960])},\n",
       "                   verbose=True)</pre></div></div></div><div class=\"sk-parallel\"><div class=\"sk-parallel-item\"><div class=\"sk-item\"><div class=\"sk-label-container\"><div class=\"sk-label sk-toggleable\"><input class=\"sk-toggleable__control sk-hidden--visually\" id=\"sk-estimator-id-8\" type=\"checkbox\" ><label for=\"sk-estimator-id-8\" class=\"sk-toggleable__label sk-toggleable__label-arrow\">estimator: RandomForestClassifier</label><div class=\"sk-toggleable__content\"><pre>RandomForestClassifier(random_state=42)</pre></div></div></div><div class=\"sk-serial\"><div class=\"sk-item\"><div class=\"sk-estimator sk-toggleable\"><input class=\"sk-toggleable__control sk-hidden--visually\" id=\"sk-estimator-id-9\" type=\"checkbox\" ><label for=\"sk-estimator-id-9\" class=\"sk-toggleable__label sk-toggleable__label-arrow\">RandomForestClassifier</label><div class=\"sk-toggleable__content\"><pre>RandomForestClassifier(random_state=42)</pre></div></div></div></div></div></div></div></div></div></div>"
      ],
      "text/plain": [
       "RandomizedSearchCV(cv=5, estimator=RandomForestClassifier(random_state=42),\n",
       "                   n_jobs=-1,\n",
       "                   param_distributions={'max_depth': [3, 5, 10],\n",
       "                                        'min_samples_leaf': array([ 1,  3,  5,  7,  9, 11, 13, 15, 17, 19]),\n",
       "                                        'min_samples_split': array([ 2,  4,  6,  8, 10, 12, 14, 16, 18]),\n",
       "                                        'n_estimators': array([ 10,  60, 110, 160, 210, 260, 310, 360, 410, 460, 510, 560, 610,\n",
       "       660, 710, 760, 810, 860, 910, 960])},\n",
       "                   verbose=True)"
      ]
     },
     "execution_count": 99,
     "metadata": {},
     "output_type": "execute_result"
    }
   ],
   "source": [
    "# Setup random hyperparameter search for LogisticRegression\n",
    "random_forest_params = RandomizedSearchCV(RandomForestClassifier(random_state=42),\n",
    "                                param_distributions=random_forest_grid,\n",
    "                                cv=5,\n",
    "                                verbose=True,\n",
    "                                n_jobs=-1)\n",
    "\n",
    "# Fit random hyperparameter search model\n",
    "random_forest_params.fit(X_train, y_train)"
   ]
  },
  {
   "cell_type": "code",
   "execution_count": 100,
   "metadata": {},
   "outputs": [
    {
     "data": {
      "text/plain": [
       "{'n_estimators': 910,\n",
       " 'min_samples_split': 6,\n",
       " 'min_samples_leaf': 3,\n",
       " 'max_depth': 10}"
      ]
     },
     "execution_count": 100,
     "metadata": {},
     "output_type": "execute_result"
    }
   ],
   "source": [
    "# Check best parameters\n",
    "random_forest_params.best_params_\n"
   ]
  },
  {
   "cell_type": "code",
   "execution_count": 101,
   "metadata": {},
   "outputs": [
    {
     "data": {
      "text/plain": [
       "0.7268269534957292"
      ]
     },
     "execution_count": 101,
     "metadata": {},
     "output_type": "execute_result"
    }
   ],
   "source": [
    "# Evaluating the tuned model\n",
    "random_forest_params.score(X_test, y_test)"
   ]
  },
  {
   "cell_type": "markdown",
   "metadata": {},
   "source": [
    "The model accuracy is roughly 72.68% and hence it needs further tuning."
   ]
  },
  {
   "cell_type": "code",
   "execution_count": 102,
   "metadata": {},
   "outputs": [],
   "source": [
    "random_forest_grid = {\"n_estimators\": [100, 200, 300],\n",
    "           \"max_depth\": [5, 10, 15],\n",
    "           \"min_samples_split\": [6, 8, 10],\n",
    "           \"min_samples_leaf\": [6, 8, 10]}"
   ]
  },
  {
   "cell_type": "code",
   "execution_count": 103,
   "metadata": {},
   "outputs": [
    {
     "name": "stdout",
     "output_type": "stream",
     "text": [
      "Fitting 5 folds for each of 81 candidates, totalling 405 fits\n"
     ]
    },
    {
     "data": {
      "text/html": [
       "<style>#sk-container-id-4 {color: black;background-color: white;}#sk-container-id-4 pre{padding: 0;}#sk-container-id-4 div.sk-toggleable {background-color: white;}#sk-container-id-4 label.sk-toggleable__label {cursor: pointer;display: block;width: 100%;margin-bottom: 0;padding: 0.3em;box-sizing: border-box;text-align: center;}#sk-container-id-4 label.sk-toggleable__label-arrow:before {content: \"▸\";float: left;margin-right: 0.25em;color: #696969;}#sk-container-id-4 label.sk-toggleable__label-arrow:hover:before {color: black;}#sk-container-id-4 div.sk-estimator:hover label.sk-toggleable__label-arrow:before {color: black;}#sk-container-id-4 div.sk-toggleable__content {max-height: 0;max-width: 0;overflow: hidden;text-align: left;background-color: #f0f8ff;}#sk-container-id-4 div.sk-toggleable__content pre {margin: 0.2em;color: black;border-radius: 0.25em;background-color: #f0f8ff;}#sk-container-id-4 input.sk-toggleable__control:checked~div.sk-toggleable__content {max-height: 200px;max-width: 100%;overflow: auto;}#sk-container-id-4 input.sk-toggleable__control:checked~label.sk-toggleable__label-arrow:before {content: \"▾\";}#sk-container-id-4 div.sk-estimator input.sk-toggleable__control:checked~label.sk-toggleable__label {background-color: #d4ebff;}#sk-container-id-4 div.sk-label input.sk-toggleable__control:checked~label.sk-toggleable__label {background-color: #d4ebff;}#sk-container-id-4 input.sk-hidden--visually {border: 0;clip: rect(1px 1px 1px 1px);clip: rect(1px, 1px, 1px, 1px);height: 1px;margin: -1px;overflow: hidden;padding: 0;position: absolute;width: 1px;}#sk-container-id-4 div.sk-estimator {font-family: monospace;background-color: #f0f8ff;border: 1px dotted black;border-radius: 0.25em;box-sizing: border-box;margin-bottom: 0.5em;}#sk-container-id-4 div.sk-estimator:hover {background-color: #d4ebff;}#sk-container-id-4 div.sk-parallel-item::after {content: \"\";width: 100%;border-bottom: 1px solid gray;flex-grow: 1;}#sk-container-id-4 div.sk-label:hover label.sk-toggleable__label {background-color: #d4ebff;}#sk-container-id-4 div.sk-serial::before {content: \"\";position: absolute;border-left: 1px solid gray;box-sizing: border-box;top: 0;bottom: 0;left: 50%;z-index: 0;}#sk-container-id-4 div.sk-serial {display: flex;flex-direction: column;align-items: center;background-color: white;padding-right: 0.2em;padding-left: 0.2em;position: relative;}#sk-container-id-4 div.sk-item {position: relative;z-index: 1;}#sk-container-id-4 div.sk-parallel {display: flex;align-items: stretch;justify-content: center;background-color: white;position: relative;}#sk-container-id-4 div.sk-item::before, #sk-container-id-4 div.sk-parallel-item::before {content: \"\";position: absolute;border-left: 1px solid gray;box-sizing: border-box;top: 0;bottom: 0;left: 50%;z-index: -1;}#sk-container-id-4 div.sk-parallel-item {display: flex;flex-direction: column;z-index: 1;position: relative;background-color: white;}#sk-container-id-4 div.sk-parallel-item:first-child::after {align-self: flex-end;width: 50%;}#sk-container-id-4 div.sk-parallel-item:last-child::after {align-self: flex-start;width: 50%;}#sk-container-id-4 div.sk-parallel-item:only-child::after {width: 0;}#sk-container-id-4 div.sk-dashed-wrapped {border: 1px dashed gray;margin: 0 0.4em 0.5em 0.4em;box-sizing: border-box;padding-bottom: 0.4em;background-color: white;}#sk-container-id-4 div.sk-label label {font-family: monospace;font-weight: bold;display: inline-block;line-height: 1.2em;}#sk-container-id-4 div.sk-label-container {text-align: center;}#sk-container-id-4 div.sk-container {/* jupyter's `normalize.less` sets `[hidden] { display: none; }` but bootstrap.min.css set `[hidden] { display: none !important; }` so we also need the `!important` here to be able to override the default hidden behavior on the sphinx rendered scikit-learn.org. See: https://github.com/scikit-learn/scikit-learn/issues/21755 */display: inline-block !important;position: relative;}#sk-container-id-4 div.sk-text-repr-fallback {display: none;}</style><div id=\"sk-container-id-4\" class=\"sk-top-container\"><div class=\"sk-text-repr-fallback\"><pre>GridSearchCV(cv=5, estimator=RandomForestClassifier(random_state=42), n_jobs=-1,\n",
       "             param_grid={&#x27;max_depth&#x27;: [5, 10, 15],\n",
       "                         &#x27;min_samples_leaf&#x27;: [6, 8, 10],\n",
       "                         &#x27;min_samples_split&#x27;: [6, 8, 10],\n",
       "                         &#x27;n_estimators&#x27;: [100, 200, 300]},\n",
       "             verbose=True)</pre><b>In a Jupyter environment, please rerun this cell to show the HTML representation or trust the notebook. <br />On GitHub, the HTML representation is unable to render, please try loading this page with nbviewer.org.</b></div><div class=\"sk-container\" hidden><div class=\"sk-item sk-dashed-wrapped\"><div class=\"sk-label-container\"><div class=\"sk-label sk-toggleable\"><input class=\"sk-toggleable__control sk-hidden--visually\" id=\"sk-estimator-id-10\" type=\"checkbox\" ><label for=\"sk-estimator-id-10\" class=\"sk-toggleable__label sk-toggleable__label-arrow\">GridSearchCV</label><div class=\"sk-toggleable__content\"><pre>GridSearchCV(cv=5, estimator=RandomForestClassifier(random_state=42), n_jobs=-1,\n",
       "             param_grid={&#x27;max_depth&#x27;: [5, 10, 15],\n",
       "                         &#x27;min_samples_leaf&#x27;: [6, 8, 10],\n",
       "                         &#x27;min_samples_split&#x27;: [6, 8, 10],\n",
       "                         &#x27;n_estimators&#x27;: [100, 200, 300]},\n",
       "             verbose=True)</pre></div></div></div><div class=\"sk-parallel\"><div class=\"sk-parallel-item\"><div class=\"sk-item\"><div class=\"sk-label-container\"><div class=\"sk-label sk-toggleable\"><input class=\"sk-toggleable__control sk-hidden--visually\" id=\"sk-estimator-id-11\" type=\"checkbox\" ><label for=\"sk-estimator-id-11\" class=\"sk-toggleable__label sk-toggleable__label-arrow\">estimator: RandomForestClassifier</label><div class=\"sk-toggleable__content\"><pre>RandomForestClassifier(random_state=42)</pre></div></div></div><div class=\"sk-serial\"><div class=\"sk-item\"><div class=\"sk-estimator sk-toggleable\"><input class=\"sk-toggleable__control sk-hidden--visually\" id=\"sk-estimator-id-12\" type=\"checkbox\" ><label for=\"sk-estimator-id-12\" class=\"sk-toggleable__label sk-toggleable__label-arrow\">RandomForestClassifier</label><div class=\"sk-toggleable__content\"><pre>RandomForestClassifier(random_state=42)</pre></div></div></div></div></div></div></div></div></div></div>"
      ],
      "text/plain": [
       "GridSearchCV(cv=5, estimator=RandomForestClassifier(random_state=42), n_jobs=-1,\n",
       "             param_grid={'max_depth': [5, 10, 15],\n",
       "                         'min_samples_leaf': [6, 8, 10],\n",
       "                         'min_samples_split': [6, 8, 10],\n",
       "                         'n_estimators': [100, 200, 300]},\n",
       "             verbose=True)"
      ]
     },
     "execution_count": 103,
     "metadata": {},
     "output_type": "execute_result"
    }
   ],
   "source": [
    "# Setup grid hyperparameter search for LogisticRegression\n",
    "random_forest_params = GridSearchCV(RandomForestClassifier(random_state=42),\n",
    "                                param_grid=random_forest_grid,\n",
    "                                cv=5,\n",
    "                                verbose=True,\n",
    "                                n_jobs=-1)\n",
    "\n",
    "# Fit random hyperparameter search model\n",
    "random_forest_params.fit(X_train, y_train)"
   ]
  },
  {
   "cell_type": "code",
   "execution_count": 104,
   "metadata": {},
   "outputs": [
    {
     "data": {
      "text/plain": [
       "{'max_depth': 15,\n",
       " 'min_samples_leaf': 6,\n",
       " 'min_samples_split': 6,\n",
       " 'n_estimators': 200}"
      ]
     },
     "execution_count": 104,
     "metadata": {},
     "output_type": "execute_result"
    }
   ],
   "source": [
    "# Check best parameters\n",
    "random_forest_params.best_params_"
   ]
  },
  {
   "cell_type": "code",
   "execution_count": 105,
   "metadata": {},
   "outputs": [
    {
     "data": {
      "text/plain": [
       "0.7633660234103132"
      ]
     },
     "execution_count": 105,
     "metadata": {},
     "output_type": "execute_result"
    }
   ],
   "source": [
    "# Evaluating the tuned model\n",
    "random_forest_params.score(X_test, y_test)"
   ]
  },
  {
   "cell_type": "markdown",
   "metadata": {},
   "source": [
    "After Grid Search, the Random Forest model has an accuracy of roughly 76.33%."
   ]
  },
  {
   "cell_type": "code",
   "execution_count": 106,
   "metadata": {},
   "outputs": [],
   "source": [
    "# Save Random Forest Model\n",
    "pickle.dump(random_forest_params, open(\"rf_model.pk1\", \"wb\"))"
   ]
  },
  {
   "cell_type": "markdown",
   "metadata": {},
   "source": [
    "##### Model Evaluation"
   ]
  },
  {
   "cell_type": "code",
   "execution_count": 107,
   "metadata": {},
   "outputs": [],
   "source": [
    "# Load pickled model\n",
    "random_forest_model = pickle.load(open(\"rf_model.pk1\", \"rb\"))"
   ]
  },
  {
   "cell_type": "code",
   "execution_count": 108,
   "metadata": {},
   "outputs": [],
   "source": [
    "# Make predictions on test data\n",
    "y_pred = random_forest_model.predict(X_test)"
   ]
  },
  {
   "cell_type": "code",
   "execution_count": 109,
   "metadata": {},
   "outputs": [
    {
     "name": "stdout",
     "output_type": "stream",
     "text": [
      "[[1452   19   63    1   23]\n",
      " [ 214  721  108   13  167]\n",
      " [  61   16 1420    0   19]\n",
      " [  73  105  161  314   29]\n",
      " [ 264   31  128    1  919]]\n"
     ]
    }
   ],
   "source": [
    "# Print Confusion Matrix\n",
    "print(confusion_matrix(y_test, y_pred))"
   ]
  },
  {
   "cell_type": "code",
   "execution_count": 110,
   "metadata": {},
   "outputs": [
    {
     "data": {
      "image/png": "[encoded data removed]",
      "text/plain": [
       "<Figure size 600x600 with 1 Axes>"
      ]
     },
     "metadata": {},
     "output_type": "display_data"
    }
   ],
   "source": [
    "# Visualize Confusion Matrix with heatmap\n",
    "fig, ax = plt.subplots(figsize=(6, 6))\n",
    "ax = sns.heatmap(confusion_matrix(y_test, y_pred),\n",
    "                 annot=True,\n",
    "                 cbar=False,\n",
    "                 cmap=\"crest\", fmt = '0.1f')\n",
    "plt.xlabel(\"Actual label\")\n",
    "plt.ylabel(\"Predicted label\")\n",
    "plt.show()"
   ]
  },
  {
   "cell_type": "code",
   "execution_count": 111,
   "metadata": {},
   "outputs": [],
   "source": [
    "Topic_names = [\"Bank account services\", \"Credit card / Prepaid card\", \"Mortgages/loans\", \"Theft/Dispute reporting\", \"Others\",]"
   ]
  },
  {
   "cell_type": "code",
   "execution_count": 112,
   "metadata": {},
   "outputs": [
    {
     "name": "stdout",
     "output_type": "stream",
     "text": [
      "                            precision    recall  f1-score   support\n",
      "\n",
      "     Bank account services       0.70      0.93      0.80      1558\n",
      "Credit card / Prepaid card       0.81      0.59      0.68      1223\n",
      "           Mortgages/loans       0.76      0.94      0.84      1516\n",
      "   Theft/Dispute reporting       0.95      0.46      0.62       682\n",
      "                    Others       0.79      0.68      0.74      1343\n",
      "\n",
      "                  accuracy                           0.76      6322\n",
      "                 macro avg       0.80      0.72      0.74      6322\n",
      "              weighted avg       0.78      0.76      0.75      6322\n",
      "\n"
     ]
    }
   ],
   "source": [
    "# Print Classification Report\n",
    "print(classification_report(y_test, y_pred, target_names = Topic_names))"
   ]
  },
  {
   "cell_type": "markdown",
   "metadata": {},
   "source": [
    "* The overall accuracy of the Random Forest model is 76%\n",
    "* Precision and Accuracy are 80% and 72% respectively and we can see that the model overfits for \"Theft/Dispute reporting\" category for Precision\n",
    "* This is a poor model as compared to Logistic Regression where the accuracy was roughly 91%."
   ]
  },
  {
   "cell_type": "markdown",
   "metadata": {},
   "source": [
    "##### Overall Results:\n",
    "We created three supervised models viz. Logistic Regression, Decision Tree Classifier and Random Forest Classifier to predict any new complaints to the relevant Topics.\n",
    "\n",
    "##### Results\n",
    "###### Logistic Regression\n",
    "The overall accuracy of the Logistic Regression model is roughly 91%.\n",
    "Precision and Recall are 91% and 91% respectively which makes this is a very good model.\n",
    "\n",
    "###### Decision Tree\n",
    "The overall accuracy of the Decision Tree model is 74%\n",
    "Precision and Recall are 74% and 74% respectively.\n",
    "\n",
    "###### Random Forest\n",
    "The overall accuracy of the Random Forest model is 76%\n",
    "Precision and Recall are 80% and 72% respectively.\n",
    "\n",
    "##### Conclusion\n",
    "Based on the above results, Logistic Regression is the best model with an accuracy of 91% with Precision and Recall as 91% and 91% respectively"
   ]
  },
  {
   "cell_type": "code",
   "execution_count": null,
   "metadata": {},
   "outputs": [],
   "source": []
  }
 ],
 "metadata": {
  "colab": {
   "collapsed_sections": [
    "T9jD_6SeJrF3",
    "5DfCSbbmJrF4",
    "yYzD85nTJrGA",
    "piyLxzj6v07j",
    "280Vbqk-7a8M"
   ],
   "provenance": []
  },
  "kernelspec": {
   "display_name": "Python 3 (ipykernel)",
   "language": "python",
   "name": "python3"
  },
  "language_info": {
   "codemirror_mode": {
    "name": "ipython",
    "version": 3
   },
   "file_extension": ".py",
   "mimetype": "text/x-python",
   "name": "python",
   "nbconvert_exporter": "python",
   "pygments_lexer": "ipython3",
   "version": "3.9.16"
  }
 },
 "nbformat": 4,
 "nbformat_minor": 1
}
